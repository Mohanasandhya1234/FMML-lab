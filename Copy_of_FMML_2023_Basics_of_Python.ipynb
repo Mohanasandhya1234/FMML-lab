{
  "nbformat": 4,
  "nbformat_minor": 0,
  "metadata": {
    "colab": {
      "provenance": [],
      "include_colab_link": true
    },
    "kernelspec": {
      "name": "python3",
      "display_name": "Python 3"
    },
    "language_info": {
      "name": "python"
    }
  },
  "cells": [
    {
      "cell_type": "markdown",
      "metadata": {
        "id": "view-in-github",
        "colab_type": "text"
      },
      "source": [
        "<a href=\"https://colab.research.google.com/github/Mohanasandhya1234/FMML-lab/blob/main/Copy_of_FMML_2023_Basics_of_Python.ipynb\" target=\"_parent\"><img src=\"https://colab.research.google.com/assets/colab-badge.svg\" alt=\"Open In Colab\"/></a>"
      ]
    },
    {
      "cell_type": "markdown",
      "source": [
        "# Getting Started\n",
        "\n",
        "FMML Module 1, Lab 1 <br>\n",
        " Module Coordinator: Amit Pandey ( amit.pandey@research.iiit.ac.in ) <br>\n",
        " Release date: Aug 2022 <br>\n",
        "\n"
      ],
      "metadata": {
        "id": "TMVRKfbpTAeR"
      }
    },
    {
      "cell_type": "markdown",
      "source": [
        "### In this notebook we will be covering the very basics of Python and some basic libraries such as Numpy, Matplotlib and Nltk.\n",
        "#### It is suggested that you go through each line and try some examples."
      ],
      "metadata": {
        "id": "F-XjWYLBTI0f"
      }
    },
    {
      "cell_type": "markdown",
      "source": [
        "#### Section 1 - Python : Basic data types and indexing."
      ],
      "metadata": {
        "id": "wEyEnIhnTdhB"
      }
    },
    {
      "cell_type": "code",
      "source": [
        "## Strings\n",
        "'''\n",
        "A string is a collection of one or more characters put in a single quote,\n",
        " double-quote or triple quote. In python there is no character data type,\n",
        " a character is a string of length one. It is represented by str class.\n",
        "\n",
        "String can have special characters. String can be indexed\n",
        "\n",
        "'''\n",
        "\n",
        "\n",
        "name = 'First Lab'\n",
        "name_extended = name + 'Module 1'\n",
        "last_element_string = name[-1] # -1 in python is index of the last element.\n",
        "## indexing is important for preprocessing of the raw data."
      ],
      "metadata": {
        "id": "AzguFJmTQIqt"
      },
      "execution_count": 1,
      "outputs": []
    },
    {
      "cell_type": "code",
      "source": [
        "print(name ,\"\\n\", name_extended, \"\\n\", last_element_string)"
      ],
      "metadata": {
        "colab": {
          "base_uri": "https://localhost:8080/"
        },
        "id": "DPokcpuLQO6s",
        "outputId": "1a4bf9d9-6ad0-478f-99cd-8cac8d8c824e"
      },
      "execution_count": 2,
      "outputs": [
        {
          "output_type": "stream",
          "name": "stdout",
          "text": [
            "First Lab \n",
            " First LabModule 1 \n",
            " b\n"
          ]
        }
      ]
    },
    {
      "cell_type": "code",
      "source": [
        "## List\n",
        "\n",
        "'''\n",
        "Lists are ordered collection of data, and are very similar to arrays,\n",
        "It is very flexible as the items in a list do not need to be of the same type.\n",
        "'''\n",
        "\n",
        "name_list = ['First Lab', 3 , '1.1' , 'Lab 1'] ## notice elements are of different data type.\n",
        "name_list.extend(['Module 1']) ## adding elements to list (Read about append method as well).\n",
        "element_2 = name_list[1] ## Just like other languages, the index starts from 0.\n",
        "two_dimesional_list = [[1,2],[3,4]] ## practice with multi-dimensional lists and arrays\n",
        "## you would soon be required to handle 4 dimensional data :p :)\n",
        "name_list[2] = '1.111' ##list elements can be changed"
      ],
      "metadata": {
        "id": "g7WZtwkpE2tO"
      },
      "execution_count": 3,
      "outputs": []
    },
    {
      "cell_type": "code",
      "source": [
        "print(name_list)\n",
        "print(element_2)\n",
        "print(two_dimesional_list)\n",
        "## list can have list, dictionary, string etc."
      ],
      "metadata": {
        "colab": {
          "base_uri": "https://localhost:8080/"
        },
        "id": "vblBrQflE9Cs",
        "outputId": "4e5bce1f-453a-46d2-9de9-db30e85e2f5b"
      },
      "execution_count": 4,
      "outputs": [
        {
          "output_type": "stream",
          "name": "stdout",
          "text": [
            "['First Lab', 3, '1.111', 'Lab 1', 'Module 1']\n",
            "3\n",
            "[[1, 2], [3, 4]]\n"
          ]
        }
      ]
    },
    {
      "cell_type": "code",
      "source": [
        "## Tuples\n",
        "\n",
        "name_tuple = ('First Lab', 1, (2,3),[1,1,'list having string']) ## A tuple can have a tuple.\n",
        "\n",
        "print(name_tuple[2])\n",
        "print(\"first indexing the last element of the tuple, which is a list and \\n then last element of the list (a string) and then second last element of the string:\")\n",
        "print(name_tuple[-1][-1][-2])\n"
      ],
      "metadata": {
        "colab": {
          "base_uri": "https://localhost:8080/"
        },
        "id": "x5eOXNK5FtlF",
        "outputId": "c5b4b979-1076-473b-a9a4-a50a1d7d0dd2"
      },
      "execution_count": 5,
      "outputs": [
        {
          "output_type": "stream",
          "name": "stdout",
          "text": [
            "(2, 3)\n",
            "first indexing the last element of the tuple, which is a list and \n",
            " then last element of the list (a string) and then second last element of the string:\n",
            "n\n"
          ]
        }
      ]
    },
    {
      "cell_type": "code",
      "source": [
        "name_tuple = (1, 2, 3, 4)\n",
        "# Attempt to change the second element (which will result in an error)\n",
        "# name_tuple[1] = 2  # This line will raise a TypeError\n",
        "\n",
        "# Create a new tuple with the desired changes\n",
        "new_name_tuple = name_tuple[:1] + (2,) + name_tuple[2:]\n",
        "print(new_name_tuple)  # This will output (1, 2, 3, 4)"
      ],
      "metadata": {
        "colab": {
          "base_uri": "https://localhost:8080/"
        },
        "id": "m92Oab8YRha1",
        "outputId": "12c6ff6a-ab0d-46f3-be86-d5658b9c2e81"
      },
      "execution_count": 6,
      "outputs": [
        {
          "output_type": "stream",
          "name": "stdout",
          "text": [
            "(1, 2, 3, 4)\n"
          ]
        }
      ]
    },
    {
      "cell_type": "code",
      "source": [
        "set_unique = set([1, 1, 2, 3, 5, 6, 'Lab1'])\n",
        "print(set_unique)  # Notice it is unordered\n",
        "\n",
        "if set_unique:  # Check if the set is not empty before popping\n",
        "    last_el = set_unique.pop()\n",
        "    set_unique.add((1, 2))\n",
        "    print(\"Last element:\", last_el)\n",
        "    print(\"Updated set:\", set_unique)\n",
        "else:\n",
        "    print(\"The set is empty.\")"
      ],
      "metadata": {
        "id": "MfkMO0mlTcep",
        "colab": {
          "base_uri": "https://localhost:8080/"
        },
        "outputId": "b80659d6-d046-4054-a6ea-46178aaf68ee"
      },
      "execution_count": 7,
      "outputs": [
        {
          "output_type": "stream",
          "name": "stdout",
          "text": [
            "{1, 2, 3, 5, 6, 'Lab1'}\n",
            "Last element: 1\n",
            "Updated set: {2, 3, (1, 2), 5, 6, 'Lab1'}\n"
          ]
        }
      ]
    },
    {
      "cell_type": "code",
      "source": [
        "list_unique = [1, 1, 2, 3, 5, 6, 'Lab1']\n",
        "\n",
        "# Access the element at index 1\n",
        "element_at_index_1 = list_unique[1]\n",
        "\n",
        "print(element_at_index_1)"
      ],
      "metadata": {
        "colab": {
          "base_uri": "https://localhost:8080/"
        },
        "id": "QgHlNSRPampd",
        "outputId": "a34629fc-21a1-471f-9e98-0074f356e29c"
      },
      "execution_count": 8,
      "outputs": [
        {
          "output_type": "stream",
          "name": "stdout",
          "text": [
            "1\n"
          ]
        }
      ]
    },
    {
      "cell_type": "code",
      "source": [
        "dic = {'1': 'A', '2': 'B', 'C': 3}\n",
        "dic['4'] = 'New'\n",
        "print(dic)"
      ],
      "metadata": {
        "colab": {
          "base_uri": "https://localhost:8080/"
        },
        "id": "rxhE3hYtZxVb",
        "outputId": "d2050cd3-5427-454d-bf0e-810c24962632"
      },
      "execution_count": 9,
      "outputs": [
        {
          "output_type": "stream",
          "name": "stdout",
          "text": [
            "{'1': 'A', '2': 'B', 'C': 3, '4': 'New'}\n"
          ]
        }
      ]
    },
    {
      "cell_type": "markdown",
      "source": [
        "# #### Question 0:\n",
        "###### write down 3-5 methods applicable to each data type. (Hint: extend, reverse, etc.\n",
        "answers:\n",
        "For Strings:\n",
        "\n",
        "concatenate: Combines two or more strings together.\n",
        "toUpperCase / toLowerCase: Converts a string to all uppercase or lowercase characters, respectively.\n",
        "substring: Returns a portion of the string based on a specified start and end index.\n",
        "indexOf: Finds the index of a specified substring within the string.\n",
        "replace: Replaces all occurrences of a substring with another substring.\n",
        "For Lists/Arrays:\n",
        "\n",
        "append: Adds an element to the end of the list.\n",
        "insert: Inserts an element at a specified position in the list.\n",
        "pop: Removes and returns the element at a specified index.\n",
        "reverse: Reverses the order of elements in the list.\n",
        "extend: Appends the elements of another list to the current list.\n",
        "For Numbers:\n",
        "\n",
        "add / subtract / multiply / divide: Basic arithmetic operations.\n",
        "abs: Returns the absolute value of a number.\n",
        "round: Rounds a floating-point number to the nearest integer.\n",
        "min / max: Finds the minimum or maximum of two or more numbers.\n",
        "pow: Raises a number to a specified power.\n",
        "For Dictionaries/Maps:\n",
        "\n",
        "get: Retrieves the value associated with a specific key.\n",
        "keys: Returns a list of all keys in the dictionary.\n",
        "values: Returns a list of all values in the dictionary.\n",
        "update: Merges the contents of one dictionary into another.\n",
        "pop: Removes and returns the value associated with a specified key.\n",
        "For Booleans:\n",
        "\n",
        "and: Returns true if both boolean values are true.\n",
        "or: Returns true if at least one boolean value is true.\n",
        "not: Returns the opposite boolean value.\n",
        "== (equality): Checks if two boolean values are equal.\n",
        "!= (inequality): Checks if two boolean values are not equal.\n",
        "These are just a few examples of methods applicable to common data types in programming. The actual methods available may vary depending on the programming language you are using, and some data types may have additional specialized methods.\n",
        "\n",
        "\n",
        "\n",
        "\n"
      ],
      "metadata": {
        "id": "hizs_paeceA5"
      }
    },
    {
      "cell_type": "markdown",
      "source": [
        "## Section 2 - Functions\n",
        "### a group of related statements that performs a specific task."
      ],
      "metadata": {
        "id": "tub_Skp3X1cN"
      }
    },
    {
      "cell_type": "code",
      "source": [
        "def add_new(a: str, b):\n",
        "    try:\n",
        "        sum = a + b  # Try to add a and b\n",
        "        return sum\n",
        "    except TypeError:\n",
        "        return None  # Handle the case where addition is not possible\n",
        "\n",
        "ans = add_new('1', 2)  # Pass a string and an integer\n",
        "print(ans)"
      ],
      "metadata": {
        "colab": {
          "base_uri": "https://localhost:8080/"
        },
        "id": "K-6Q5T8nX_YF",
        "outputId": "3ee265d4-4a8e-4678-e4a7-b811eed936fb"
      },
      "execution_count": 10,
      "outputs": [
        {
          "output_type": "stream",
          "name": "stdout",
          "text": [
            "None\n"
          ]
        }
      ]
    },
    {
      "cell_type": "code",
      "source": [
        "ans = add_new('1', 2)"
      ],
      "metadata": {
        "id": "aVLU3Bpu0YJV"
      },
      "execution_count": 11,
      "outputs": []
    },
    {
      "cell_type": "code",
      "source": [
        "def check_even_list(num_list):\n",
        "    even_numbers = []\n",
        "\n",
        "    # Go through each number\n",
        "    for number in num_list:\n",
        "        # Once we get a \"hit\" on an even number, we append the even number\n",
        "        if number % 2 == 0:\n",
        "            even_numbers.append(number)\n",
        "        # Don't do anything if it's not even\n",
        "        else:\n",
        "            pass\n",
        "\n",
        "    # Notice the indentation! This ensures we run through the entire for loop\n",
        "    return even_numbers"
      ],
      "metadata": {
        "id": "aRa47XCsZLsh"
      },
      "execution_count": 12,
      "outputs": []
    },
    {
      "cell_type": "markdown",
      "source": [
        "#### Question 1 :\n",
        "\n",
        "##### Define a function, which takes in two strings A and B. Reverses the first string A, adds it to B, and returns the final string.\n",
        "answer:\n",
        "def reverse_and_concatenate(A, B):\n",
        "    reversed_A = A[::-1]  # Reverse string A\n",
        "    result = reversed_A + B  # Concatenate the reversed A with B\n",
        "    return result\n",
        "Here's how the function works:\n",
        "\n",
        "reversed_A = A[::-1]: This line reverses the string A using slicing notation [::-1], which means it starts from the end of the string and goes backward, effectively reversing the string.\n",
        "\n",
        "result = reversed_A + B: This line concatenates the reversed string A with string B using the + operator.\n",
        "\n",
        "return result: The function returns the final concatenated string.\n",
        "\n",
        "#### Question 2 :\n",
        "##### Given a list having Names, work_hours, and gender, Write a function to print name of the female worker that worked the most hours. Also how much do should she be paid if the pay is $ 20 per hour.\n",
        "\n",
        "##### work_hours = [('Abby',100 , 'F'),('Billy',400, 'M'),('Cassie',800,'F'), ('Maggi',600,'F'),('Alex',500,'M'),('Raj',225,'M'),('Penny',920,'F'),('Ben',300,'M')]\n",
        "\n",
        "##### Answer : the female worker that worked the most hours is Penny and she should be paid 18400\n",
        "answer:\n",
        "def find_highest_paid_female_worker(work_hours):\n",
        "    max_hours = 0\n",
        "    highest_paid_female_worker = None\n",
        "\n",
        "    for name, hours, gender in work_hours:\n",
        "        if gender == 'F' and hours > max_hours:\n",
        "            max_hours = hours\n",
        "            highest_paid_female_worker = name\n",
        "\n",
        "    if highest_paid_female_worker:\n",
        "        pay = max_hours * 20\n",
        "        print(f\"The female worker that worked the most hours is {highest_paid_female_worker} and she should be paid ${pay}\")\n",
        "    else:\n",
        "        print(\"No female workers found in the list.\")\n",
        "\n",
        "# List of work hours\n",
        "work_hours = [('Abby', 100, 'F'),('Billy', 400, 'M'),('Cassie', 800, 'F'), ('Maggi', 600, 'F'),('Alex', 500, 'M'),('Raj', 225, 'M'),('Penny', 920, 'F'),('Ben', 300, 'M')]\n",
        "\n",
        "# Call the function\n",
        "find_highest_paid_female_worker(work_hours)\n"
      ],
      "metadata": {
        "id": "heD0_u4D01jp"
      }
    },
    {
      "cell_type": "markdown",
      "source": [
        "#### Section 3 - Libraries and Reading data."
      ],
      "metadata": {
        "id": "T9fGzOAKXhtt"
      }
    },
    {
      "cell_type": "markdown",
      "source": [
        "##### Numpy - One of the most used libraries - supports for large, multi-dimensional arrays and matrices, along with a large collection of high-level mathematical functions to operate on these arrays."
      ],
      "metadata": {
        "id": "TKVyOsBKYZXa"
      }
    },
    {
      "cell_type": "code",
      "source": [
        "pip install numpy\n"
      ],
      "metadata": {
        "id": "_ODaZ44RXkyg",
        "outputId": "7cc16791-d5f2-4434-ecbf-2d755e86ec6b",
        "colab": {
          "base_uri": "https://localhost:8080/"
        }
      },
      "execution_count": 13,
      "outputs": [
        {
          "output_type": "stream",
          "name": "stdout",
          "text": [
            "Requirement already satisfied: numpy in /usr/local/lib/python3.10/dist-packages (1.23.5)\n"
          ]
        }
      ]
    },
    {
      "cell_type": "code",
      "source": [
        "import numpy as np\n",
        "\n",
        "a = np.array([1, 1, 2, 3, 4, 5, 5, 6, 1])\n",
        "b = a > 1\n",
        "\n",
        "print(b)\n",
        "print(a[b])"
      ],
      "metadata": {
        "colab": {
          "base_uri": "https://localhost:8080/"
        },
        "id": "29vs7Iicavlg",
        "outputId": "a998b8f9-9228-4501-9d76-08a817d1e407"
      },
      "execution_count": 14,
      "outputs": [
        {
          "output_type": "stream",
          "name": "stdout",
          "text": [
            "[False False  True  True  True  True  True  True False]\n",
            "[2 3 4 5 5 6]\n"
          ]
        }
      ]
    },
    {
      "cell_type": "code",
      "source": [
        "import numpy as np\n",
        "\n",
        "a_range = np.arange(10, 19).reshape(3, 3)\n",
        "print(a_range)\n"
      ],
      "metadata": {
        "colab": {
          "base_uri": "https://localhost:8080/"
        },
        "id": "MAGJJ1K_jCHN",
        "outputId": "e26b765d-5054-4d37-b431-7b2f227f08be"
      },
      "execution_count": 15,
      "outputs": [
        {
          "output_type": "stream",
          "name": "stdout",
          "text": [
            "[[10 11 12]\n",
            " [13 14 15]\n",
            " [16 17 18]]\n"
          ]
        }
      ]
    },
    {
      "cell_type": "code",
      "source": [
        "import numpy as np\n",
        "\n",
        "a_range = np.arange(10, 19).reshape(3, 3)\n",
        "\n",
        "# To print all columns of the first row\n",
        "first_row = a_range[0, :]\n",
        "print(first_row)"
      ],
      "metadata": {
        "colab": {
          "base_uri": "https://localhost:8080/"
        },
        "id": "BpNpo-eDt9Fr",
        "outputId": "6db17ea2-a309-4bb9-9917-043f4490c24c"
      },
      "execution_count": 16,
      "outputs": [
        {
          "output_type": "stream",
          "name": "stdout",
          "text": [
            "[10 11 12]\n"
          ]
        }
      ]
    },
    {
      "cell_type": "code",
      "source": [
        "import numpy as np\n",
        "\n",
        "a_range = np.arange(10, 19).reshape(3, 3)\n",
        "\n",
        "# To print all rows of the second column\n",
        "second_column = a_range[:, 1]\n",
        "print(second_column)"
      ],
      "metadata": {
        "colab": {
          "base_uri": "https://localhost:8080/"
        },
        "id": "HbDG7M3QuCDQ",
        "outputId": "6c5100a0-db58-4fa5-ab9f-89b2a7027f7e"
      },
      "execution_count": 17,
      "outputs": [
        {
          "output_type": "stream",
          "name": "stdout",
          "text": [
            "[11 14 17]\n"
          ]
        }
      ]
    },
    {
      "cell_type": "code",
      "source": [
        "import numpy as np\n",
        "\n",
        "iden = np.eye(3)  # Creates a 3x3 identity matrix"
      ],
      "metadata": {
        "id": "RQ7UV_-fjJw3"
      },
      "execution_count": 18,
      "outputs": []
    },
    {
      "cell_type": "code",
      "source": [
        "import numpy as np\n",
        "\n",
        "a_range = np.arange(10, 19).reshape(3, 3)\n",
        "iden = np.eye(3)  # Creates a 3x3 identity matrix\n",
        "\n",
        "summed = a_range + iden\n",
        "print(summed)\n"
      ],
      "metadata": {
        "colab": {
          "base_uri": "https://localhost:8080/"
        },
        "id": "hYJXXvnwjPfE",
        "outputId": "226d7749-52da-4690-927d-a6e0e903cea8"
      },
      "execution_count": 19,
      "outputs": [
        {
          "output_type": "stream",
          "name": "stdout",
          "text": [
            "[[11. 11. 12.]\n",
            " [13. 15. 15.]\n",
            " [16. 17. 19.]]\n"
          ]
        }
      ]
    },
    {
      "cell_type": "code",
      "source": [
        "### arrays support normal matrix multiplication that you are used to, point-wise multiplication\n",
        "### and dot product as well.\n",
        "\n",
        "mul = a_range@iden ## normal multiplication\n",
        "mul\n"
      ],
      "metadata": {
        "colab": {
          "base_uri": "https://localhost:8080/"
        },
        "id": "VoyeEptRjYRu",
        "outputId": "8af42780-2764-4465-d8b2-4a0421533f1b"
      },
      "execution_count": 20,
      "outputs": [
        {
          "output_type": "execute_result",
          "data": {
            "text/plain": [
              "array([[10., 11., 12.],\n",
              "       [13., 14., 15.],\n",
              "       [16., 17., 18.]])"
            ]
          },
          "metadata": {},
          "execution_count": 20
        }
      ]
    },
    {
      "cell_type": "code",
      "source": [
        "## point wise multiplication\n",
        "p_mul = a_range * iden\n",
        "p_mul"
      ],
      "metadata": {
        "colab": {
          "base_uri": "https://localhost:8080/"
        },
        "id": "58S3a_YmtAe8",
        "outputId": "d65b159e-7f8a-4752-eff1-73b161613446"
      },
      "execution_count": 21,
      "outputs": [
        {
          "output_type": "execute_result",
          "data": {
            "text/plain": [
              "array([[10.,  0.,  0.],\n",
              "       [ 0., 14.,  0.],\n",
              "       [ 0.,  0., 18.]])"
            ]
          },
          "metadata": {},
          "execution_count": 21
        }
      ]
    },
    {
      "cell_type": "code",
      "source": [
        "## Transpose of a matrix.\n",
        "\n",
        "mtx_t = mul.T\n",
        "mtx_t\n"
      ],
      "metadata": {
        "colab": {
          "base_uri": "https://localhost:8080/"
        },
        "id": "HC5uJ03ftJHA",
        "outputId": "9c17ec14-8e17-46f8-f8eb-682d1aadab66"
      },
      "execution_count": 22,
      "outputs": [
        {
          "output_type": "execute_result",
          "data": {
            "text/plain": [
              "array([[10., 13., 16.],\n",
              "       [11., 14., 17.],\n",
              "       [12., 15., 18.]])"
            ]
          },
          "metadata": {},
          "execution_count": 22
        }
      ]
    },
    {
      "cell_type": "code",
      "source": [
        "### Here we are changing the values of last row of the transposed matrix.\n",
        "### basically point wise multiplying the values of last row with 1,2 and 3\n",
        "\n",
        "mtx_t[2] = mtx_t[2]*[1,2,3] ## indexing, point wise multiplication and mutation of values\n",
        "mtx_t"
      ],
      "metadata": {
        "colab": {
          "base_uri": "https://localhost:8080/"
        },
        "id": "ROFhfs2lutat",
        "outputId": "0bf8557a-4a4e-4b1c-ec17-e1d2972216e2"
      },
      "execution_count": 23,
      "outputs": [
        {
          "output_type": "execute_result",
          "data": {
            "text/plain": [
              "array([[10., 13., 16.],\n",
              "       [11., 14., 17.],\n",
              "       [12., 30., 54.]])"
            ]
          },
          "metadata": {},
          "execution_count": 23
        }
      ]
    },
    {
      "cell_type": "code",
      "source": [
        "## Just like the greater than 1 (a>1) example we saw earlier.\n",
        "## here we are checking if the elements are divisible by 2 (%), and if they are, then replace by 0.\n",
        "\n",
        "mtx_t[(mtx_t % 2 == 0)] = 0 ## convert even elements of the matrix to zero.\n",
        "mtx_t"
      ],
      "metadata": {
        "colab": {
          "base_uri": "https://localhost:8080/"
        },
        "id": "Mh80ju2xvAqL",
        "outputId": "d2595836-e9dc-4a45-eec9-799d23fcd613"
      },
      "execution_count": 24,
      "outputs": [
        {
          "output_type": "execute_result",
          "data": {
            "text/plain": [
              "array([[ 0., 13.,  0.],\n",
              "       [11.,  0., 17.],\n",
              "       [ 0.,  0.,  0.]])"
            ]
          },
          "metadata": {},
          "execution_count": 24
        }
      ]
    },
    {
      "cell_type": "markdown",
      "source": [
        "#### Question 3 :\n",
        "\n",
        "##### a)Create a 5x5 matrix of the following form,\n",
        "\n",
        "##### [[1,1]\n",
        "#####  [2,2]]\n",
        "\n",
        "#####  i.e. each row is increasing and has repetive elements.\n",
        "\n",
        "######  Hint : you can use hstack, vstack  etc.\n",
        "\n",
        "##### b) find dot product of the matrix with any matrix. (Figure out the size/ shape of the matrix)\n",
        "answer:\n",
        "import numpy as np\n",
        "\n",
        "# Create a 2x2 matrix with the desired pattern\n",
        "matrix_2x2 = np.array([[1, 1],\n",
        "                       [2, 2]])\n",
        "\n",
        "# Use np.tile to repeat the 2x2 matrix to create a 5x5 matrix\n",
        "matrix_5x5 = np.tile(matrix_2x2, (3, 3))\n",
        "\n",
        "print(matrix_5x5)\n",
        "This code first creates a 2x2 matrix with the desired pattern and then uses np.tile to repeat this 2x2 matrix to form a 5x5 matrix.\n",
        "\n",
        "b) To find the dot product of the 5x5 matrix with another matrix, you'll need a second matrix with compatible dimensions. In this case, the second matrix should be a 5x5 matrix as well. You can create a random 5x5 matrix and then compute the dot product:\n",
        "\n",
        "python\n",
        "Copy code\n",
        "# Create a random 5x5 matrix for the second matrix\n",
        "second_matrix = np.random.rand(5, 5)\n",
        "\n",
        "# Compute the dot product\n",
        "dot_product = np.dot(matrix_5x5, second_matrix)\n",
        "\n",
        "# Print the result\n",
        "print(\"Dot Product Matrix:\")\n",
        "print(dot_product)\n",
        "This code generates a random 5x5 matrix and then computes the dot product of the 5x5 matrix created in part (a) with this random 5x5 matrix.\n",
        "\n",
        "\n",
        "\n",
        "\n"
      ],
      "metadata": {
        "id": "uqWUH6Rv4OhT"
      }
    },
    {
      "cell_type": "markdown",
      "source": [
        "#### Reading Files"
      ],
      "metadata": {
        "id": "GzNoCosKdVa2"
      }
    },
    {
      "cell_type": "code",
      "source": [
        "## loading from the google drive\n",
        "from google.colab import drive\n",
        "drive.mount('/content/gdrive')"
      ],
      "metadata": {
        "colab": {
          "base_uri": "https://localhost:8080/"
        },
        "id": "_wCHdrtQwDJe",
        "outputId": "2926217b-a4b6-4a68-8fd6-97d5ea701bc2"
      },
      "execution_count": 25,
      "outputs": [
        {
          "output_type": "stream",
          "name": "stdout",
          "text": [
            "Mounted at /content/gdrive\n"
          ]
        }
      ]
    },
    {
      "cell_type": "code",
      "source": [
        "with open ('/content/sample_data/README.md', 'r') as f:\n",
        "  a = f.readlines()\n",
        "\n",
        "a ## here a is list of elements/strings each splitted at \\n, \\n is also part of the list element.\n"
      ],
      "metadata": {
        "colab": {
          "base_uri": "https://localhost:8080/"
        },
        "id": "c1rzXSJobLku",
        "outputId": "3ba23b30-27e3-45a0-cca8-85a959d0ddca"
      },
      "execution_count": 26,
      "outputs": [
        {
          "output_type": "execute_result",
          "data": {
            "text/plain": [
              "['This directory includes a few sample datasets to get you started.\\n',\n",
              " '\\n',\n",
              " '*   `california_housing_data*.csv` is California housing data from the 1990 US\\n',\n",
              " '    Census; more information is available at:\\n',\n",
              " '    https://developers.google.com/machine-learning/crash-course/california-housing-data-description\\n',\n",
              " '\\n',\n",
              " '*   `mnist_*.csv` is a small sample of the\\n',\n",
              " '    [MNIST database](https://en.wikipedia.org/wiki/MNIST_database), which is\\n',\n",
              " '    described at: http://yann.lecun.com/exdb/mnist/\\n',\n",
              " '\\n',\n",
              " '*   `anscombe.json` contains a copy of\\n',\n",
              " \"    [Anscombe's quartet](https://en.wikipedia.org/wiki/Anscombe%27s_quartet); it\\n\",\n",
              " '    was originally described in\\n',\n",
              " '\\n',\n",
              " \"    Anscombe, F. J. (1973). 'Graphs in Statistical Analysis'. American\\n\",\n",
              " '    Statistician. 27 (1): 17-21. JSTOR 2682899.\\n',\n",
              " '\\n',\n",
              " '    and our copy was prepared by the\\n',\n",
              " '    [vega_datasets library](https://github.com/altair-viz/vega_datasets/blob/4f67bdaad10f45e3549984e17e1b3088c731503d/vega_datasets/_data/anscombe.json).\\n']"
            ]
          },
          "metadata": {},
          "execution_count": 26
        }
      ]
    },
    {
      "cell_type": "code",
      "source": [
        "import pandas as pd\n",
        "\n",
        "df = pd.read_csv('/content/sample_data/california_housing_test.csv','r')\n",
        "df.head(10) ## pass as argument number of top elements you wish to print. Head is used to have a quick glance and understand the data."
      ],
      "metadata": {
        "colab": {
          "base_uri": "https://localhost:8080/",
          "height": 397
        },
        "id": "CgXsQFpobVGk",
        "outputId": "0ccc3c8a-84aa-45d3-f585-d37f04c93357"
      },
      "execution_count": 27,
      "outputs": [
        {
          "output_type": "stream",
          "name": "stderr",
          "text": [
            "<ipython-input-27-ad5bb400a483>:3: FutureWarning: In a future version of pandas all arguments of read_csv except for the argument 'filepath_or_buffer' will be keyword-only.\n",
            "  df = pd.read_csv('/content/sample_data/california_housing_test.csv','r')\n"
          ]
        },
        {
          "output_type": "execute_result",
          "data": {
            "text/plain": [
              "   longitude,\"latitude\",\"housing_median_age\",\"total_  ooms\",\"total_bed  \\\n",
              "0  -122.050000,37.370000,27.000000,3885.000000,66...               NaN   \n",
              "1  -118.300000,34.260000,43.000000,1510.000000,31...               NaN   \n",
              "2  -117.810000,33.780000,27.000000,3589.000000,50...               NaN   \n",
              "3  -118.360000,33.820000,28.000000,67.000000,15.0...               NaN   \n",
              "4  -119.670000,36.330000,19.000000,1241.000000,24...               NaN   \n",
              "5  -119.560000,36.510000,37.000000,1018.000000,21...               NaN   \n",
              "6  -121.430000,38.630000,43.000000,1009.000000,22...               NaN   \n",
              "7  -120.650000,35.480000,19.000000,2310.000000,47...               NaN   \n",
              "8  -122.840000,38.400000,15.000000,3080.000000,61...               NaN   \n",
              "9  -118.020000,34.080000,31.000000,2402.000000,63...               NaN   \n",
              "\n",
              "   ooms\",\"population\",\"households\",\"median_income\",\"median_house_value\"  \n",
              "0                                                NaN                     \n",
              "1                                                NaN                     \n",
              "2                                                NaN                     \n",
              "3                                                NaN                     \n",
              "4                                                NaN                     \n",
              "5                                                NaN                     \n",
              "6                                                NaN                     \n",
              "7                                                NaN                     \n",
              "8                                                NaN                     \n",
              "9                                                NaN                     "
            ],
            "text/html": [
              "\n",
              "  <div id=\"df-e58250f8-9ddf-4b8e-8951-326416246b93\" class=\"colab-df-container\">\n",
              "    <div>\n",
              "<style scoped>\n",
              "    .dataframe tbody tr th:only-of-type {\n",
              "        vertical-align: middle;\n",
              "    }\n",
              "\n",
              "    .dataframe tbody tr th {\n",
              "        vertical-align: top;\n",
              "    }\n",
              "\n",
              "    .dataframe thead th {\n",
              "        text-align: right;\n",
              "    }\n",
              "</style>\n",
              "<table border=\"1\" class=\"dataframe\">\n",
              "  <thead>\n",
              "    <tr style=\"text-align: right;\">\n",
              "      <th></th>\n",
              "      <th>longitude,\"latitude\",\"housing_median_age\",\"total_</th>\n",
              "      <th>ooms\",\"total_bed</th>\n",
              "      <th>ooms\",\"population\",\"households\",\"median_income\",\"median_house_value\"</th>\n",
              "    </tr>\n",
              "  </thead>\n",
              "  <tbody>\n",
              "    <tr>\n",
              "      <th>0</th>\n",
              "      <td>-122.050000,37.370000,27.000000,3885.000000,66...</td>\n",
              "      <td>NaN</td>\n",
              "      <td>NaN</td>\n",
              "    </tr>\n",
              "    <tr>\n",
              "      <th>1</th>\n",
              "      <td>-118.300000,34.260000,43.000000,1510.000000,31...</td>\n",
              "      <td>NaN</td>\n",
              "      <td>NaN</td>\n",
              "    </tr>\n",
              "    <tr>\n",
              "      <th>2</th>\n",
              "      <td>-117.810000,33.780000,27.000000,3589.000000,50...</td>\n",
              "      <td>NaN</td>\n",
              "      <td>NaN</td>\n",
              "    </tr>\n",
              "    <tr>\n",
              "      <th>3</th>\n",
              "      <td>-118.360000,33.820000,28.000000,67.000000,15.0...</td>\n",
              "      <td>NaN</td>\n",
              "      <td>NaN</td>\n",
              "    </tr>\n",
              "    <tr>\n",
              "      <th>4</th>\n",
              "      <td>-119.670000,36.330000,19.000000,1241.000000,24...</td>\n",
              "      <td>NaN</td>\n",
              "      <td>NaN</td>\n",
              "    </tr>\n",
              "    <tr>\n",
              "      <th>5</th>\n",
              "      <td>-119.560000,36.510000,37.000000,1018.000000,21...</td>\n",
              "      <td>NaN</td>\n",
              "      <td>NaN</td>\n",
              "    </tr>\n",
              "    <tr>\n",
              "      <th>6</th>\n",
              "      <td>-121.430000,38.630000,43.000000,1009.000000,22...</td>\n",
              "      <td>NaN</td>\n",
              "      <td>NaN</td>\n",
              "    </tr>\n",
              "    <tr>\n",
              "      <th>7</th>\n",
              "      <td>-120.650000,35.480000,19.000000,2310.000000,47...</td>\n",
              "      <td>NaN</td>\n",
              "      <td>NaN</td>\n",
              "    </tr>\n",
              "    <tr>\n",
              "      <th>8</th>\n",
              "      <td>-122.840000,38.400000,15.000000,3080.000000,61...</td>\n",
              "      <td>NaN</td>\n",
              "      <td>NaN</td>\n",
              "    </tr>\n",
              "    <tr>\n",
              "      <th>9</th>\n",
              "      <td>-118.020000,34.080000,31.000000,2402.000000,63...</td>\n",
              "      <td>NaN</td>\n",
              "      <td>NaN</td>\n",
              "    </tr>\n",
              "  </tbody>\n",
              "</table>\n",
              "</div>\n",
              "    <div class=\"colab-df-buttons\">\n",
              "\n",
              "  <div class=\"colab-df-container\">\n",
              "    <button class=\"colab-df-convert\" onclick=\"convertToInteractive('df-e58250f8-9ddf-4b8e-8951-326416246b93')\"\n",
              "            title=\"Convert this dataframe to an interactive table.\"\n",
              "            style=\"display:none;\">\n",
              "\n",
              "  <svg xmlns=\"http://www.w3.org/2000/svg\" height=\"24px\" viewBox=\"0 -960 960 960\">\n",
              "    <path d=\"M120-120v-720h720v720H120Zm60-500h600v-160H180v160Zm220 220h160v-160H400v160Zm0 220h160v-160H400v160ZM180-400h160v-160H180v160Zm440 0h160v-160H620v160ZM180-180h160v-160H180v160Zm440 0h160v-160H620v160Z\"/>\n",
              "  </svg>\n",
              "    </button>\n",
              "\n",
              "  <style>\n",
              "    .colab-df-container {\n",
              "      display:flex;\n",
              "      gap: 12px;\n",
              "    }\n",
              "\n",
              "    .colab-df-convert {\n",
              "      background-color: #E8F0FE;\n",
              "      border: none;\n",
              "      border-radius: 50%;\n",
              "      cursor: pointer;\n",
              "      display: none;\n",
              "      fill: #1967D2;\n",
              "      height: 32px;\n",
              "      padding: 0 0 0 0;\n",
              "      width: 32px;\n",
              "    }\n",
              "\n",
              "    .colab-df-convert:hover {\n",
              "      background-color: #E2EBFA;\n",
              "      box-shadow: 0px 1px 2px rgba(60, 64, 67, 0.3), 0px 1px 3px 1px rgba(60, 64, 67, 0.15);\n",
              "      fill: #174EA6;\n",
              "    }\n",
              "\n",
              "    .colab-df-buttons div {\n",
              "      margin-bottom: 4px;\n",
              "    }\n",
              "\n",
              "    [theme=dark] .colab-df-convert {\n",
              "      background-color: #3B4455;\n",
              "      fill: #D2E3FC;\n",
              "    }\n",
              "\n",
              "    [theme=dark] .colab-df-convert:hover {\n",
              "      background-color: #434B5C;\n",
              "      box-shadow: 0px 1px 3px 1px rgba(0, 0, 0, 0.15);\n",
              "      filter: drop-shadow(0px 1px 2px rgba(0, 0, 0, 0.3));\n",
              "      fill: #FFFFFF;\n",
              "    }\n",
              "  </style>\n",
              "\n",
              "    <script>\n",
              "      const buttonEl =\n",
              "        document.querySelector('#df-e58250f8-9ddf-4b8e-8951-326416246b93 button.colab-df-convert');\n",
              "      buttonEl.style.display =\n",
              "        google.colab.kernel.accessAllowed ? 'block' : 'none';\n",
              "\n",
              "      async function convertToInteractive(key) {\n",
              "        const element = document.querySelector('#df-e58250f8-9ddf-4b8e-8951-326416246b93');\n",
              "        const dataTable =\n",
              "          await google.colab.kernel.invokeFunction('convertToInteractive',\n",
              "                                                    [key], {});\n",
              "        if (!dataTable) return;\n",
              "\n",
              "        const docLinkHtml = 'Like what you see? Visit the ' +\n",
              "          '<a target=\"_blank\" href=https://colab.research.google.com/notebooks/data_table.ipynb>data table notebook</a>'\n",
              "          + ' to learn more about interactive tables.';\n",
              "        element.innerHTML = '';\n",
              "        dataTable['output_type'] = 'display_data';\n",
              "        await google.colab.output.renderOutput(dataTable, element);\n",
              "        const docLink = document.createElement('div');\n",
              "        docLink.innerHTML = docLinkHtml;\n",
              "        element.appendChild(docLink);\n",
              "      }\n",
              "    </script>\n",
              "  </div>\n",
              "\n",
              "\n",
              "<div id=\"df-4e22786c-7649-463d-987d-082ae35f4110\">\n",
              "  <button class=\"colab-df-quickchart\" onclick=\"quickchart('df-4e22786c-7649-463d-987d-082ae35f4110')\"\n",
              "            title=\"Suggest charts.\"\n",
              "            style=\"display:none;\">\n",
              "\n",
              "<svg xmlns=\"http://www.w3.org/2000/svg\" height=\"24px\"viewBox=\"0 0 24 24\"\n",
              "     width=\"24px\">\n",
              "    <g>\n",
              "        <path d=\"M19 3H5c-1.1 0-2 .9-2 2v14c0 1.1.9 2 2 2h14c1.1 0 2-.9 2-2V5c0-1.1-.9-2-2-2zM9 17H7v-7h2v7zm4 0h-2V7h2v10zm4 0h-2v-4h2v4z\"/>\n",
              "    </g>\n",
              "</svg>\n",
              "  </button>\n",
              "\n",
              "<style>\n",
              "  .colab-df-quickchart {\n",
              "      --bg-color: #E8F0FE;\n",
              "      --fill-color: #1967D2;\n",
              "      --hover-bg-color: #E2EBFA;\n",
              "      --hover-fill-color: #174EA6;\n",
              "      --disabled-fill-color: #AAA;\n",
              "      --disabled-bg-color: #DDD;\n",
              "  }\n",
              "\n",
              "  [theme=dark] .colab-df-quickchart {\n",
              "      --bg-color: #3B4455;\n",
              "      --fill-color: #D2E3FC;\n",
              "      --hover-bg-color: #434B5C;\n",
              "      --hover-fill-color: #FFFFFF;\n",
              "      --disabled-bg-color: #3B4455;\n",
              "      --disabled-fill-color: #666;\n",
              "  }\n",
              "\n",
              "  .colab-df-quickchart {\n",
              "    background-color: var(--bg-color);\n",
              "    border: none;\n",
              "    border-radius: 50%;\n",
              "    cursor: pointer;\n",
              "    display: none;\n",
              "    fill: var(--fill-color);\n",
              "    height: 32px;\n",
              "    padding: 0;\n",
              "    width: 32px;\n",
              "  }\n",
              "\n",
              "  .colab-df-quickchart:hover {\n",
              "    background-color: var(--hover-bg-color);\n",
              "    box-shadow: 0 1px 2px rgba(60, 64, 67, 0.3), 0 1px 3px 1px rgba(60, 64, 67, 0.15);\n",
              "    fill: var(--button-hover-fill-color);\n",
              "  }\n",
              "\n",
              "  .colab-df-quickchart-complete:disabled,\n",
              "  .colab-df-quickchart-complete:disabled:hover {\n",
              "    background-color: var(--disabled-bg-color);\n",
              "    fill: var(--disabled-fill-color);\n",
              "    box-shadow: none;\n",
              "  }\n",
              "\n",
              "  .colab-df-spinner {\n",
              "    border: 2px solid var(--fill-color);\n",
              "    border-color: transparent;\n",
              "    border-bottom-color: var(--fill-color);\n",
              "    animation:\n",
              "      spin 1s steps(1) infinite;\n",
              "  }\n",
              "\n",
              "  @keyframes spin {\n",
              "    0% {\n",
              "      border-color: transparent;\n",
              "      border-bottom-color: var(--fill-color);\n",
              "      border-left-color: var(--fill-color);\n",
              "    }\n",
              "    20% {\n",
              "      border-color: transparent;\n",
              "      border-left-color: var(--fill-color);\n",
              "      border-top-color: var(--fill-color);\n",
              "    }\n",
              "    30% {\n",
              "      border-color: transparent;\n",
              "      border-left-color: var(--fill-color);\n",
              "      border-top-color: var(--fill-color);\n",
              "      border-right-color: var(--fill-color);\n",
              "    }\n",
              "    40% {\n",
              "      border-color: transparent;\n",
              "      border-right-color: var(--fill-color);\n",
              "      border-top-color: var(--fill-color);\n",
              "    }\n",
              "    60% {\n",
              "      border-color: transparent;\n",
              "      border-right-color: var(--fill-color);\n",
              "    }\n",
              "    80% {\n",
              "      border-color: transparent;\n",
              "      border-right-color: var(--fill-color);\n",
              "      border-bottom-color: var(--fill-color);\n",
              "    }\n",
              "    90% {\n",
              "      border-color: transparent;\n",
              "      border-bottom-color: var(--fill-color);\n",
              "    }\n",
              "  }\n",
              "</style>\n",
              "\n",
              "  <script>\n",
              "    async function quickchart(key) {\n",
              "      const quickchartButtonEl =\n",
              "        document.querySelector('#' + key + ' button');\n",
              "      quickchartButtonEl.disabled = true;  // To prevent multiple clicks.\n",
              "      quickchartButtonEl.classList.add('colab-df-spinner');\n",
              "      try {\n",
              "        const charts = await google.colab.kernel.invokeFunction(\n",
              "            'suggestCharts', [key], {});\n",
              "      } catch (error) {\n",
              "        console.error('Error during call to suggestCharts:', error);\n",
              "      }\n",
              "      quickchartButtonEl.classList.remove('colab-df-spinner');\n",
              "      quickchartButtonEl.classList.add('colab-df-quickchart-complete');\n",
              "    }\n",
              "    (() => {\n",
              "      let quickchartButtonEl =\n",
              "        document.querySelector('#df-4e22786c-7649-463d-987d-082ae35f4110 button');\n",
              "      quickchartButtonEl.style.display =\n",
              "        google.colab.kernel.accessAllowed ? 'block' : 'none';\n",
              "    })();\n",
              "  </script>\n",
              "</div>\n",
              "    </div>\n",
              "  </div>\n"
            ]
          },
          "metadata": {},
          "execution_count": 27
        }
      ]
    },
    {
      "cell_type": "code",
      "source": [
        "len(df.columns), df.columns"
      ],
      "metadata": {
        "colab": {
          "base_uri": "https://localhost:8080/"
        },
        "id": "iMMaPe3gduKb",
        "outputId": "e93fdfa4-232f-45d9-aff9-688ee06d0da2"
      },
      "execution_count": 28,
      "outputs": [
        {
          "output_type": "execute_result",
          "data": {
            "text/plain": [
              "(3,\n",
              " Index(['longitude,\"latitude\",\"housing_median_age\",\"total_', 'ooms\",\"total_bed',\n",
              "        'ooms\",\"population\",\"households\",\"median_income\",\"median_house_value\"'],\n",
              "       dtype='object'))"
            ]
          },
          "metadata": {},
          "execution_count": 28
        }
      ]
    },
    {
      "cell_type": "code",
      "source": [
        "df.columns[0]"
      ],
      "metadata": {
        "colab": {
          "base_uri": "https://localhost:8080/",
          "height": 36
        },
        "id": "GT1dA9Q3eRQU",
        "outputId": "a766a8e5-8690-47b9-9f64-a1440b63922d"
      },
      "execution_count": 29,
      "outputs": [
        {
          "output_type": "execute_result",
          "data": {
            "text/plain": [
              "'longitude,\"latitude\",\"housing_median_age\",\"total_'"
            ],
            "application/vnd.google.colaboratory.intrinsic+json": {
              "type": "string"
            }
          },
          "metadata": {},
          "execution_count": 29
        }
      ]
    },
    {
      "cell_type": "code",
      "source": [
        "df['longitude,\"latitude\",\"housing_median_age\",\"total_'][:5]"
      ],
      "metadata": {
        "colab": {
          "base_uri": "https://localhost:8080/"
        },
        "id": "oEZhq9rBe-Hb",
        "outputId": "42854091-f350-4d2e-910d-c8a60760481a"
      },
      "execution_count": 30,
      "outputs": [
        {
          "output_type": "execute_result",
          "data": {
            "text/plain": [
              "0    -122.050000,37.370000,27.000000,3885.000000,66...\n",
              "1    -118.300000,34.260000,43.000000,1510.000000,31...\n",
              "2    -117.810000,33.780000,27.000000,3589.000000,50...\n",
              "3    -118.360000,33.820000,28.000000,67.000000,15.0...\n",
              "4    -119.670000,36.330000,19.000000,1241.000000,24...\n",
              "Name: longitude,\"latitude\",\"housing_median_age\",\"total_, dtype: object"
            ]
          },
          "metadata": {},
          "execution_count": 30
        }
      ]
    },
    {
      "cell_type": "code",
      "source": [
        "df = df.rename(columns = {'longitude,\"latitude\",\"housing_median_age\",\"total_':'Detail1'}) ##rename column names as at times it makes it easier for us"
      ],
      "metadata": {
        "id": "-hpbslfWfwy3"
      },
      "execution_count": 31,
      "outputs": []
    },
    {
      "cell_type": "code",
      "source": [
        "df.head(3)"
      ],
      "metadata": {
        "colab": {
          "base_uri": "https://localhost:8080/",
          "height": 143
        },
        "id": "C0gpXPf1hN5Q",
        "outputId": "83a6414a-8389-4a55-834d-104201b82ef0"
      },
      "execution_count": 32,
      "outputs": [
        {
          "output_type": "execute_result",
          "data": {
            "text/plain": [
              "                                             Detail1  ooms\",\"total_bed  \\\n",
              "0  -122.050000,37.370000,27.000000,3885.000000,66...               NaN   \n",
              "1  -118.300000,34.260000,43.000000,1510.000000,31...               NaN   \n",
              "2  -117.810000,33.780000,27.000000,3589.000000,50...               NaN   \n",
              "\n",
              "   ooms\",\"population\",\"households\",\"median_income\",\"median_house_value\"  \n",
              "0                                                NaN                     \n",
              "1                                                NaN                     \n",
              "2                                                NaN                     "
            ],
            "text/html": [
              "\n",
              "  <div id=\"df-b8cb0fb5-f8d6-44da-8e05-efa2c5395427\" class=\"colab-df-container\">\n",
              "    <div>\n",
              "<style scoped>\n",
              "    .dataframe tbody tr th:only-of-type {\n",
              "        vertical-align: middle;\n",
              "    }\n",
              "\n",
              "    .dataframe tbody tr th {\n",
              "        vertical-align: top;\n",
              "    }\n",
              "\n",
              "    .dataframe thead th {\n",
              "        text-align: right;\n",
              "    }\n",
              "</style>\n",
              "<table border=\"1\" class=\"dataframe\">\n",
              "  <thead>\n",
              "    <tr style=\"text-align: right;\">\n",
              "      <th></th>\n",
              "      <th>Detail1</th>\n",
              "      <th>ooms\",\"total_bed</th>\n",
              "      <th>ooms\",\"population\",\"households\",\"median_income\",\"median_house_value\"</th>\n",
              "    </tr>\n",
              "  </thead>\n",
              "  <tbody>\n",
              "    <tr>\n",
              "      <th>0</th>\n",
              "      <td>-122.050000,37.370000,27.000000,3885.000000,66...</td>\n",
              "      <td>NaN</td>\n",
              "      <td>NaN</td>\n",
              "    </tr>\n",
              "    <tr>\n",
              "      <th>1</th>\n",
              "      <td>-118.300000,34.260000,43.000000,1510.000000,31...</td>\n",
              "      <td>NaN</td>\n",
              "      <td>NaN</td>\n",
              "    </tr>\n",
              "    <tr>\n",
              "      <th>2</th>\n",
              "      <td>-117.810000,33.780000,27.000000,3589.000000,50...</td>\n",
              "      <td>NaN</td>\n",
              "      <td>NaN</td>\n",
              "    </tr>\n",
              "  </tbody>\n",
              "</table>\n",
              "</div>\n",
              "    <div class=\"colab-df-buttons\">\n",
              "\n",
              "  <div class=\"colab-df-container\">\n",
              "    <button class=\"colab-df-convert\" onclick=\"convertToInteractive('df-b8cb0fb5-f8d6-44da-8e05-efa2c5395427')\"\n",
              "            title=\"Convert this dataframe to an interactive table.\"\n",
              "            style=\"display:none;\">\n",
              "\n",
              "  <svg xmlns=\"http://www.w3.org/2000/svg\" height=\"24px\" viewBox=\"0 -960 960 960\">\n",
              "    <path d=\"M120-120v-720h720v720H120Zm60-500h600v-160H180v160Zm220 220h160v-160H400v160Zm0 220h160v-160H400v160ZM180-400h160v-160H180v160Zm440 0h160v-160H620v160ZM180-180h160v-160H180v160Zm440 0h160v-160H620v160Z\"/>\n",
              "  </svg>\n",
              "    </button>\n",
              "\n",
              "  <style>\n",
              "    .colab-df-container {\n",
              "      display:flex;\n",
              "      gap: 12px;\n",
              "    }\n",
              "\n",
              "    .colab-df-convert {\n",
              "      background-color: #E8F0FE;\n",
              "      border: none;\n",
              "      border-radius: 50%;\n",
              "      cursor: pointer;\n",
              "      display: none;\n",
              "      fill: #1967D2;\n",
              "      height: 32px;\n",
              "      padding: 0 0 0 0;\n",
              "      width: 32px;\n",
              "    }\n",
              "\n",
              "    .colab-df-convert:hover {\n",
              "      background-color: #E2EBFA;\n",
              "      box-shadow: 0px 1px 2px rgba(60, 64, 67, 0.3), 0px 1px 3px 1px rgba(60, 64, 67, 0.15);\n",
              "      fill: #174EA6;\n",
              "    }\n",
              "\n",
              "    .colab-df-buttons div {\n",
              "      margin-bottom: 4px;\n",
              "    }\n",
              "\n",
              "    [theme=dark] .colab-df-convert {\n",
              "      background-color: #3B4455;\n",
              "      fill: #D2E3FC;\n",
              "    }\n",
              "\n",
              "    [theme=dark] .colab-df-convert:hover {\n",
              "      background-color: #434B5C;\n",
              "      box-shadow: 0px 1px 3px 1px rgba(0, 0, 0, 0.15);\n",
              "      filter: drop-shadow(0px 1px 2px rgba(0, 0, 0, 0.3));\n",
              "      fill: #FFFFFF;\n",
              "    }\n",
              "  </style>\n",
              "\n",
              "    <script>\n",
              "      const buttonEl =\n",
              "        document.querySelector('#df-b8cb0fb5-f8d6-44da-8e05-efa2c5395427 button.colab-df-convert');\n",
              "      buttonEl.style.display =\n",
              "        google.colab.kernel.accessAllowed ? 'block' : 'none';\n",
              "\n",
              "      async function convertToInteractive(key) {\n",
              "        const element = document.querySelector('#df-b8cb0fb5-f8d6-44da-8e05-efa2c5395427');\n",
              "        const dataTable =\n",
              "          await google.colab.kernel.invokeFunction('convertToInteractive',\n",
              "                                                    [key], {});\n",
              "        if (!dataTable) return;\n",
              "\n",
              "        const docLinkHtml = 'Like what you see? Visit the ' +\n",
              "          '<a target=\"_blank\" href=https://colab.research.google.com/notebooks/data_table.ipynb>data table notebook</a>'\n",
              "          + ' to learn more about interactive tables.';\n",
              "        element.innerHTML = '';\n",
              "        dataTable['output_type'] = 'display_data';\n",
              "        await google.colab.output.renderOutput(dataTable, element);\n",
              "        const docLink = document.createElement('div');\n",
              "        docLink.innerHTML = docLinkHtml;\n",
              "        element.appendChild(docLink);\n",
              "      }\n",
              "    </script>\n",
              "  </div>\n",
              "\n",
              "\n",
              "<div id=\"df-26d6c68c-9eae-47cd-9dde-16c5d5b07ec3\">\n",
              "  <button class=\"colab-df-quickchart\" onclick=\"quickchart('df-26d6c68c-9eae-47cd-9dde-16c5d5b07ec3')\"\n",
              "            title=\"Suggest charts.\"\n",
              "            style=\"display:none;\">\n",
              "\n",
              "<svg xmlns=\"http://www.w3.org/2000/svg\" height=\"24px\"viewBox=\"0 0 24 24\"\n",
              "     width=\"24px\">\n",
              "    <g>\n",
              "        <path d=\"M19 3H5c-1.1 0-2 .9-2 2v14c0 1.1.9 2 2 2h14c1.1 0 2-.9 2-2V5c0-1.1-.9-2-2-2zM9 17H7v-7h2v7zm4 0h-2V7h2v10zm4 0h-2v-4h2v4z\"/>\n",
              "    </g>\n",
              "</svg>\n",
              "  </button>\n",
              "\n",
              "<style>\n",
              "  .colab-df-quickchart {\n",
              "      --bg-color: #E8F0FE;\n",
              "      --fill-color: #1967D2;\n",
              "      --hover-bg-color: #E2EBFA;\n",
              "      --hover-fill-color: #174EA6;\n",
              "      --disabled-fill-color: #AAA;\n",
              "      --disabled-bg-color: #DDD;\n",
              "  }\n",
              "\n",
              "  [theme=dark] .colab-df-quickchart {\n",
              "      --bg-color: #3B4455;\n",
              "      --fill-color: #D2E3FC;\n",
              "      --hover-bg-color: #434B5C;\n",
              "      --hover-fill-color: #FFFFFF;\n",
              "      --disabled-bg-color: #3B4455;\n",
              "      --disabled-fill-color: #666;\n",
              "  }\n",
              "\n",
              "  .colab-df-quickchart {\n",
              "    background-color: var(--bg-color);\n",
              "    border: none;\n",
              "    border-radius: 50%;\n",
              "    cursor: pointer;\n",
              "    display: none;\n",
              "    fill: var(--fill-color);\n",
              "    height: 32px;\n",
              "    padding: 0;\n",
              "    width: 32px;\n",
              "  }\n",
              "\n",
              "  .colab-df-quickchart:hover {\n",
              "    background-color: var(--hover-bg-color);\n",
              "    box-shadow: 0 1px 2px rgba(60, 64, 67, 0.3), 0 1px 3px 1px rgba(60, 64, 67, 0.15);\n",
              "    fill: var(--button-hover-fill-color);\n",
              "  }\n",
              "\n",
              "  .colab-df-quickchart-complete:disabled,\n",
              "  .colab-df-quickchart-complete:disabled:hover {\n",
              "    background-color: var(--disabled-bg-color);\n",
              "    fill: var(--disabled-fill-color);\n",
              "    box-shadow: none;\n",
              "  }\n",
              "\n",
              "  .colab-df-spinner {\n",
              "    border: 2px solid var(--fill-color);\n",
              "    border-color: transparent;\n",
              "    border-bottom-color: var(--fill-color);\n",
              "    animation:\n",
              "      spin 1s steps(1) infinite;\n",
              "  }\n",
              "\n",
              "  @keyframes spin {\n",
              "    0% {\n",
              "      border-color: transparent;\n",
              "      border-bottom-color: var(--fill-color);\n",
              "      border-left-color: var(--fill-color);\n",
              "    }\n",
              "    20% {\n",
              "      border-color: transparent;\n",
              "      border-left-color: var(--fill-color);\n",
              "      border-top-color: var(--fill-color);\n",
              "    }\n",
              "    30% {\n",
              "      border-color: transparent;\n",
              "      border-left-color: var(--fill-color);\n",
              "      border-top-color: var(--fill-color);\n",
              "      border-right-color: var(--fill-color);\n",
              "    }\n",
              "    40% {\n",
              "      border-color: transparent;\n",
              "      border-right-color: var(--fill-color);\n",
              "      border-top-color: var(--fill-color);\n",
              "    }\n",
              "    60% {\n",
              "      border-color: transparent;\n",
              "      border-right-color: var(--fill-color);\n",
              "    }\n",
              "    80% {\n",
              "      border-color: transparent;\n",
              "      border-right-color: var(--fill-color);\n",
              "      border-bottom-color: var(--fill-color);\n",
              "    }\n",
              "    90% {\n",
              "      border-color: transparent;\n",
              "      border-bottom-color: var(--fill-color);\n",
              "    }\n",
              "  }\n",
              "</style>\n",
              "\n",
              "  <script>\n",
              "    async function quickchart(key) {\n",
              "      const quickchartButtonEl =\n",
              "        document.querySelector('#' + key + ' button');\n",
              "      quickchartButtonEl.disabled = true;  // To prevent multiple clicks.\n",
              "      quickchartButtonEl.classList.add('colab-df-spinner');\n",
              "      try {\n",
              "        const charts = await google.colab.kernel.invokeFunction(\n",
              "            'suggestCharts', [key], {});\n",
              "      } catch (error) {\n",
              "        console.error('Error during call to suggestCharts:', error);\n",
              "      }\n",
              "      quickchartButtonEl.classList.remove('colab-df-spinner');\n",
              "      quickchartButtonEl.classList.add('colab-df-quickchart-complete');\n",
              "    }\n",
              "    (() => {\n",
              "      let quickchartButtonEl =\n",
              "        document.querySelector('#df-26d6c68c-9eae-47cd-9dde-16c5d5b07ec3 button');\n",
              "      quickchartButtonEl.style.display =\n",
              "        google.colab.kernel.accessAllowed ? 'block' : 'none';\n",
              "    })();\n",
              "  </script>\n",
              "</div>\n",
              "    </div>\n",
              "  </div>\n"
            ]
          },
          "metadata": {},
          "execution_count": 32
        }
      ]
    },
    {
      "cell_type": "code",
      "source": [
        "df.iloc[:5, 0]  ##iloc - index - 0 to 4 rows and first column only."
      ],
      "metadata": {
        "colab": {
          "base_uri": "https://localhost:8080/"
        },
        "id": "A0FFUn-ghP1n",
        "outputId": "2e043d34-6b4b-4932-a2e2-988330d7cb9c"
      },
      "execution_count": 33,
      "outputs": [
        {
          "output_type": "execute_result",
          "data": {
            "text/plain": [
              "0    -122.050000,37.370000,27.000000,3885.000000,66...\n",
              "1    -118.300000,34.260000,43.000000,1510.000000,31...\n",
              "2    -117.810000,33.780000,27.000000,3589.000000,50...\n",
              "3    -118.360000,33.820000,28.000000,67.000000,15.0...\n",
              "4    -119.670000,36.330000,19.000000,1241.000000,24...\n",
              "Name: Detail1, dtype: object"
            ]
          },
          "metadata": {},
          "execution_count": 33
        }
      ]
    },
    {
      "cell_type": "code",
      "source": [
        "import matplotlib\n",
        "from matplotlib import pyplot as plt"
      ],
      "metadata": {
        "id": "oJ7JrZqWioIO"
      },
      "execution_count": 34,
      "outputs": []
    },
    {
      "cell_type": "code",
      "source": [
        "xpoints = np.array([1, 8])\n",
        "ypoints = np.array([3, 10])\n",
        "\n",
        "plt.plot(xpoints, ypoints)\n",
        "plt.show()"
      ],
      "metadata": {
        "colab": {
          "base_uri": "https://localhost:8080/",
          "height": 430
        },
        "id": "tzunFbpUxKAP",
        "outputId": "7330b143-7563-4955-aae4-7748e3a50627"
      },
      "execution_count": 35,
      "outputs": [
        {
          "output_type": "display_data",
          "data": {
            "text/plain": [
              "<Figure size 640x480 with 1 Axes>"
            ],
            "image/png": "[encoded data removed]"
          },
          "metadata": {}
        }
      ]
    },
    {
      "cell_type": "code",
      "source": [
        "xpoints = np.array([1, 2, 6, 8])\n",
        "ypoints = np.array([3, 8, 1, 10])\n",
        "\n",
        "plt.plot(xpoints, ypoints)\n",
        "plt.show()"
      ],
      "metadata": {
        "colab": {
          "base_uri": "https://localhost:8080/",
          "height": 430
        },
        "id": "p7l83i5SxW4k",
        "outputId": "44b2bc74-249c-4940-d3ed-10246d35766b"
      },
      "execution_count": 36,
      "outputs": [
        {
          "output_type": "display_data",
          "data": {
            "text/plain": [
              "<Figure size 640x480 with 1 Axes>"
            ],
            "image/png": "[encoded data removed]"
          },
          "metadata": {}
        }
      ]
    },
    {
      "cell_type": "markdown",
      "source": [
        "## Creating a dataframe.\n",
        "#### Task: Study about other methods of creating dataframe (for example: using Pandas Series, Lists etc.)"
      ],
      "metadata": {
        "id": "GT6yXu7l1gtL"
      }
    },
    {
      "cell_type": "code",
      "source": [
        "import pandas as pd\n",
        "import numpy as np"
      ],
      "metadata": {
        "id": "1vR1hTJ51ckl"
      },
      "execution_count": 37,
      "outputs": []
    },
    {
      "cell_type": "code",
      "source": [
        "values = np.arange(16).reshape(4,4)\n",
        "values"
      ],
      "metadata": {
        "colab": {
          "base_uri": "https://localhost:8080/"
        },
        "id": "o0W0z3Fr1gOb",
        "outputId": "bc7fd67a-2c92-458e-e60f-c37a4f398856"
      },
      "execution_count": 38,
      "outputs": [
        {
          "output_type": "execute_result",
          "data": {
            "text/plain": [
              "array([[ 0,  1,  2,  3],\n",
              "       [ 4,  5,  6,  7],\n",
              "       [ 8,  9, 10, 11],\n",
              "       [12, 13, 14, 15]])"
            ]
          },
          "metadata": {},
          "execution_count": 38
        }
      ]
    },
    {
      "cell_type": "code",
      "source": [
        "dataframe_from_array = pd.DataFrame(values, index = ['a','b','c','d'], columns=['w','x','y','z'] )\n",
        "dataframe_from_array"
      ],
      "metadata": {
        "colab": {
          "base_uri": "https://localhost:8080/",
          "height": 175
        },
        "id": "_p5vKhPN2Bey",
        "outputId": "db2a79cb-23a1-47b5-83a0-ae1acb93a023"
      },
      "execution_count": 39,
      "outputs": [
        {
          "output_type": "execute_result",
          "data": {
            "text/plain": [
              "    w   x   y   z\n",
              "a   0   1   2   3\n",
              "b   4   5   6   7\n",
              "c   8   9  10  11\n",
              "d  12  13  14  15"
            ],
            "text/html": [
              "\n",
              "  <div id=\"df-dcd61d0d-e2a3-4276-9c34-6146923b7051\" class=\"colab-df-container\">\n",
              "    <div>\n",
              "<style scoped>\n",
              "    .dataframe tbody tr th:only-of-type {\n",
              "        vertical-align: middle;\n",
              "    }\n",
              "\n",
              "    .dataframe tbody tr th {\n",
              "        vertical-align: top;\n",
              "    }\n",
              "\n",
              "    .dataframe thead th {\n",
              "        text-align: right;\n",
              "    }\n",
              "</style>\n",
              "<table border=\"1\" class=\"dataframe\">\n",
              "  <thead>\n",
              "    <tr style=\"text-align: right;\">\n",
              "      <th></th>\n",
              "      <th>w</th>\n",
              "      <th>x</th>\n",
              "      <th>y</th>\n",
              "      <th>z</th>\n",
              "    </tr>\n",
              "  </thead>\n",
              "  <tbody>\n",
              "    <tr>\n",
              "      <th>a</th>\n",
              "      <td>0</td>\n",
              "      <td>1</td>\n",
              "      <td>2</td>\n",
              "      <td>3</td>\n",
              "    </tr>\n",
              "    <tr>\n",
              "      <th>b</th>\n",
              "      <td>4</td>\n",
              "      <td>5</td>\n",
              "      <td>6</td>\n",
              "      <td>7</td>\n",
              "    </tr>\n",
              "    <tr>\n",
              "      <th>c</th>\n",
              "      <td>8</td>\n",
              "      <td>9</td>\n",
              "      <td>10</td>\n",
              "      <td>11</td>\n",
              "    </tr>\n",
              "    <tr>\n",
              "      <th>d</th>\n",
              "      <td>12</td>\n",
              "      <td>13</td>\n",
              "      <td>14</td>\n",
              "      <td>15</td>\n",
              "    </tr>\n",
              "  </tbody>\n",
              "</table>\n",
              "</div>\n",
              "    <div class=\"colab-df-buttons\">\n",
              "\n",
              "  <div class=\"colab-df-container\">\n",
              "    <button class=\"colab-df-convert\" onclick=\"convertToInteractive('df-dcd61d0d-e2a3-4276-9c34-6146923b7051')\"\n",
              "            title=\"Convert this dataframe to an interactive table.\"\n",
              "            style=\"display:none;\">\n",
              "\n",
              "  <svg xmlns=\"http://www.w3.org/2000/svg\" height=\"24px\" viewBox=\"0 -960 960 960\">\n",
              "    <path d=\"M120-120v-720h720v720H120Zm60-500h600v-160H180v160Zm220 220h160v-160H400v160Zm0 220h160v-160H400v160ZM180-400h160v-160H180v160Zm440 0h160v-160H620v160ZM180-180h160v-160H180v160Zm440 0h160v-160H620v160Z\"/>\n",
              "  </svg>\n",
              "    </button>\n",
              "\n",
              "  <style>\n",
              "    .colab-df-container {\n",
              "      display:flex;\n",
              "      gap: 12px;\n",
              "    }\n",
              "\n",
              "    .colab-df-convert {\n",
              "      background-color: #E8F0FE;\n",
              "      border: none;\n",
              "      border-radius: 50%;\n",
              "      cursor: pointer;\n",
              "      display: none;\n",
              "      fill: #1967D2;\n",
              "      height: 32px;\n",
              "      padding: 0 0 0 0;\n",
              "      width: 32px;\n",
              "    }\n",
              "\n",
              "    .colab-df-convert:hover {\n",
              "      background-color: #E2EBFA;\n",
              "      box-shadow: 0px 1px 2px rgba(60, 64, 67, 0.3), 0px 1px 3px 1px rgba(60, 64, 67, 0.15);\n",
              "      fill: #174EA6;\n",
              "    }\n",
              "\n",
              "    .colab-df-buttons div {\n",
              "      margin-bottom: 4px;\n",
              "    }\n",
              "\n",
              "    [theme=dark] .colab-df-convert {\n",
              "      background-color: #3B4455;\n",
              "      fill: #D2E3FC;\n",
              "    }\n",
              "\n",
              "    [theme=dark] .colab-df-convert:hover {\n",
              "      background-color: #434B5C;\n",
              "      box-shadow: 0px 1px 3px 1px rgba(0, 0, 0, 0.15);\n",
              "      filter: drop-shadow(0px 1px 2px rgba(0, 0, 0, 0.3));\n",
              "      fill: #FFFFFF;\n",
              "    }\n",
              "  </style>\n",
              "\n",
              "    <script>\n",
              "      const buttonEl =\n",
              "        document.querySelector('#df-dcd61d0d-e2a3-4276-9c34-6146923b7051 button.colab-df-convert');\n",
              "      buttonEl.style.display =\n",
              "        google.colab.kernel.accessAllowed ? 'block' : 'none';\n",
              "\n",
              "      async function convertToInteractive(key) {\n",
              "        const element = document.querySelector('#df-dcd61d0d-e2a3-4276-9c34-6146923b7051');\n",
              "        const dataTable =\n",
              "          await google.colab.kernel.invokeFunction('convertToInteractive',\n",
              "                                                    [key], {});\n",
              "        if (!dataTable) return;\n",
              "\n",
              "        const docLinkHtml = 'Like what you see? Visit the ' +\n",
              "          '<a target=\"_blank\" href=https://colab.research.google.com/notebooks/data_table.ipynb>data table notebook</a>'\n",
              "          + ' to learn more about interactive tables.';\n",
              "        element.innerHTML = '';\n",
              "        dataTable['output_type'] = 'display_data';\n",
              "        await google.colab.output.renderOutput(dataTable, element);\n",
              "        const docLink = document.createElement('div');\n",
              "        docLink.innerHTML = docLinkHtml;\n",
              "        element.appendChild(docLink);\n",
              "      }\n",
              "    </script>\n",
              "  </div>\n",
              "\n",
              "\n",
              "<div id=\"df-6fb506f9-a2f3-4d6d-a2d6-8b086cc70a11\">\n",
              "  <button class=\"colab-df-quickchart\" onclick=\"quickchart('df-6fb506f9-a2f3-4d6d-a2d6-8b086cc70a11')\"\n",
              "            title=\"Suggest charts.\"\n",
              "            style=\"display:none;\">\n",
              "\n",
              "<svg xmlns=\"http://www.w3.org/2000/svg\" height=\"24px\"viewBox=\"0 0 24 24\"\n",
              "     width=\"24px\">\n",
              "    <g>\n",
              "        <path d=\"M19 3H5c-1.1 0-2 .9-2 2v14c0 1.1.9 2 2 2h14c1.1 0 2-.9 2-2V5c0-1.1-.9-2-2-2zM9 17H7v-7h2v7zm4 0h-2V7h2v10zm4 0h-2v-4h2v4z\"/>\n",
              "    </g>\n",
              "</svg>\n",
              "  </button>\n",
              "\n",
              "<style>\n",
              "  .colab-df-quickchart {\n",
              "      --bg-color: #E8F0FE;\n",
              "      --fill-color: #1967D2;\n",
              "      --hover-bg-color: #E2EBFA;\n",
              "      --hover-fill-color: #174EA6;\n",
              "      --disabled-fill-color: #AAA;\n",
              "      --disabled-bg-color: #DDD;\n",
              "  }\n",
              "\n",
              "  [theme=dark] .colab-df-quickchart {\n",
              "      --bg-color: #3B4455;\n",
              "      --fill-color: #D2E3FC;\n",
              "      --hover-bg-color: #434B5C;\n",
              "      --hover-fill-color: #FFFFFF;\n",
              "      --disabled-bg-color: #3B4455;\n",
              "      --disabled-fill-color: #666;\n",
              "  }\n",
              "\n",
              "  .colab-df-quickchart {\n",
              "    background-color: var(--bg-color);\n",
              "    border: none;\n",
              "    border-radius: 50%;\n",
              "    cursor: pointer;\n",
              "    display: none;\n",
              "    fill: var(--fill-color);\n",
              "    height: 32px;\n",
              "    padding: 0;\n",
              "    width: 32px;\n",
              "  }\n",
              "\n",
              "  .colab-df-quickchart:hover {\n",
              "    background-color: var(--hover-bg-color);\n",
              "    box-shadow: 0 1px 2px rgba(60, 64, 67, 0.3), 0 1px 3px 1px rgba(60, 64, 67, 0.15);\n",
              "    fill: var(--button-hover-fill-color);\n",
              "  }\n",
              "\n",
              "  .colab-df-quickchart-complete:disabled,\n",
              "  .colab-df-quickchart-complete:disabled:hover {\n",
              "    background-color: var(--disabled-bg-color);\n",
              "    fill: var(--disabled-fill-color);\n",
              "    box-shadow: none;\n",
              "  }\n",
              "\n",
              "  .colab-df-spinner {\n",
              "    border: 2px solid var(--fill-color);\n",
              "    border-color: transparent;\n",
              "    border-bottom-color: var(--fill-color);\n",
              "    animation:\n",
              "      spin 1s steps(1) infinite;\n",
              "  }\n",
              "\n",
              "  @keyframes spin {\n",
              "    0% {\n",
              "      border-color: transparent;\n",
              "      border-bottom-color: var(--fill-color);\n",
              "      border-left-color: var(--fill-color);\n",
              "    }\n",
              "    20% {\n",
              "      border-color: transparent;\n",
              "      border-left-color: var(--fill-color);\n",
              "      border-top-color: var(--fill-color);\n",
              "    }\n",
              "    30% {\n",
              "      border-color: transparent;\n",
              "      border-left-color: var(--fill-color);\n",
              "      border-top-color: var(--fill-color);\n",
              "      border-right-color: var(--fill-color);\n",
              "    }\n",
              "    40% {\n",
              "      border-color: transparent;\n",
              "      border-right-color: var(--fill-color);\n",
              "      border-top-color: var(--fill-color);\n",
              "    }\n",
              "    60% {\n",
              "      border-color: transparent;\n",
              "      border-right-color: var(--fill-color);\n",
              "    }\n",
              "    80% {\n",
              "      border-color: transparent;\n",
              "      border-right-color: var(--fill-color);\n",
              "      border-bottom-color: var(--fill-color);\n",
              "    }\n",
              "    90% {\n",
              "      border-color: transparent;\n",
              "      border-bottom-color: var(--fill-color);\n",
              "    }\n",
              "  }\n",
              "</style>\n",
              "\n",
              "  <script>\n",
              "    async function quickchart(key) {\n",
              "      const quickchartButtonEl =\n",
              "        document.querySelector('#' + key + ' button');\n",
              "      quickchartButtonEl.disabled = true;  // To prevent multiple clicks.\n",
              "      quickchartButtonEl.classList.add('colab-df-spinner');\n",
              "      try {\n",
              "        const charts = await google.colab.kernel.invokeFunction(\n",
              "            'suggestCharts', [key], {});\n",
              "      } catch (error) {\n",
              "        console.error('Error during call to suggestCharts:', error);\n",
              "      }\n",
              "      quickchartButtonEl.classList.remove('colab-df-spinner');\n",
              "      quickchartButtonEl.classList.add('colab-df-quickchart-complete');\n",
              "    }\n",
              "    (() => {\n",
              "      let quickchartButtonEl =\n",
              "        document.querySelector('#df-6fb506f9-a2f3-4d6d-a2d6-8b086cc70a11 button');\n",
              "      quickchartButtonEl.style.display =\n",
              "        google.colab.kernel.accessAllowed ? 'block' : 'none';\n",
              "    })();\n",
              "  </script>\n",
              "</div>\n",
              "    </div>\n",
              "  </div>\n"
            ]
          },
          "metadata": {},
          "execution_count": 39
        }
      ]
    },
    {
      "cell_type": "code",
      "source": [
        "dataframe_from_array.loc[['a','b'],['w','x']]"
      ],
      "metadata": {
        "colab": {
          "base_uri": "https://localhost:8080/",
          "height": 112
        },
        "id": "jdIORDyX2h-Z",
        "outputId": "fa4f239b-4310-4a02-cbee-995545277fde"
      },
      "execution_count": 40,
      "outputs": [
        {
          "output_type": "execute_result",
          "data": {
            "text/plain": [
              "   w  x\n",
              "a  0  1\n",
              "b  4  5"
            ],
            "text/html": [
              "\n",
              "  <div id=\"df-2c9849a0-cc4b-43f7-b7ee-d1fb2b60269f\" class=\"colab-df-container\">\n",
              "    <div>\n",
              "<style scoped>\n",
              "    .dataframe tbody tr th:only-of-type {\n",
              "        vertical-align: middle;\n",
              "    }\n",
              "\n",
              "    .dataframe tbody tr th {\n",
              "        vertical-align: top;\n",
              "    }\n",
              "\n",
              "    .dataframe thead th {\n",
              "        text-align: right;\n",
              "    }\n",
              "</style>\n",
              "<table border=\"1\" class=\"dataframe\">\n",
              "  <thead>\n",
              "    <tr style=\"text-align: right;\">\n",
              "      <th></th>\n",
              "      <th>w</th>\n",
              "      <th>x</th>\n",
              "    </tr>\n",
              "  </thead>\n",
              "  <tbody>\n",
              "    <tr>\n",
              "      <th>a</th>\n",
              "      <td>0</td>\n",
              "      <td>1</td>\n",
              "    </tr>\n",
              "    <tr>\n",
              "      <th>b</th>\n",
              "      <td>4</td>\n",
              "      <td>5</td>\n",
              "    </tr>\n",
              "  </tbody>\n",
              "</table>\n",
              "</div>\n",
              "    <div class=\"colab-df-buttons\">\n",
              "\n",
              "  <div class=\"colab-df-container\">\n",
              "    <button class=\"colab-df-convert\" onclick=\"convertToInteractive('df-2c9849a0-cc4b-43f7-b7ee-d1fb2b60269f')\"\n",
              "            title=\"Convert this dataframe to an interactive table.\"\n",
              "            style=\"display:none;\">\n",
              "\n",
              "  <svg xmlns=\"http://www.w3.org/2000/svg\" height=\"24px\" viewBox=\"0 -960 960 960\">\n",
              "    <path d=\"M120-120v-720h720v720H120Zm60-500h600v-160H180v160Zm220 220h160v-160H400v160Zm0 220h160v-160H400v160ZM180-400h160v-160H180v160Zm440 0h160v-160H620v160ZM180-180h160v-160H180v160Zm440 0h160v-160H620v160Z\"/>\n",
              "  </svg>\n",
              "    </button>\n",
              "\n",
              "  <style>\n",
              "    .colab-df-container {\n",
              "      display:flex;\n",
              "      gap: 12px;\n",
              "    }\n",
              "\n",
              "    .colab-df-convert {\n",
              "      background-color: #E8F0FE;\n",
              "      border: none;\n",
              "      border-radius: 50%;\n",
              "      cursor: pointer;\n",
              "      display: none;\n",
              "      fill: #1967D2;\n",
              "      height: 32px;\n",
              "      padding: 0 0 0 0;\n",
              "      width: 32px;\n",
              "    }\n",
              "\n",
              "    .colab-df-convert:hover {\n",
              "      background-color: #E2EBFA;\n",
              "      box-shadow: 0px 1px 2px rgba(60, 64, 67, 0.3), 0px 1px 3px 1px rgba(60, 64, 67, 0.15);\n",
              "      fill: #174EA6;\n",
              "    }\n",
              "\n",
              "    .colab-df-buttons div {\n",
              "      margin-bottom: 4px;\n",
              "    }\n",
              "\n",
              "    [theme=dark] .colab-df-convert {\n",
              "      background-color: #3B4455;\n",
              "      fill: #D2E3FC;\n",
              "    }\n",
              "\n",
              "    [theme=dark] .colab-df-convert:hover {\n",
              "      background-color: #434B5C;\n",
              "      box-shadow: 0px 1px 3px 1px rgba(0, 0, 0, 0.15);\n",
              "      filter: drop-shadow(0px 1px 2px rgba(0, 0, 0, 0.3));\n",
              "      fill: #FFFFFF;\n",
              "    }\n",
              "  </style>\n",
              "\n",
              "    <script>\n",
              "      const buttonEl =\n",
              "        document.querySelector('#df-2c9849a0-cc4b-43f7-b7ee-d1fb2b60269f button.colab-df-convert');\n",
              "      buttonEl.style.display =\n",
              "        google.colab.kernel.accessAllowed ? 'block' : 'none';\n",
              "\n",
              "      async function convertToInteractive(key) {\n",
              "        const element = document.querySelector('#df-2c9849a0-cc4b-43f7-b7ee-d1fb2b60269f');\n",
              "        const dataTable =\n",
              "          await google.colab.kernel.invokeFunction('convertToInteractive',\n",
              "                                                    [key], {});\n",
              "        if (!dataTable) return;\n",
              "\n",
              "        const docLinkHtml = 'Like what you see? Visit the ' +\n",
              "          '<a target=\"_blank\" href=https://colab.research.google.com/notebooks/data_table.ipynb>data table notebook</a>'\n",
              "          + ' to learn more about interactive tables.';\n",
              "        element.innerHTML = '';\n",
              "        dataTable['output_type'] = 'display_data';\n",
              "        await google.colab.output.renderOutput(dataTable, element);\n",
              "        const docLink = document.createElement('div');\n",
              "        docLink.innerHTML = docLinkHtml;\n",
              "        element.appendChild(docLink);\n",
              "      }\n",
              "    </script>\n",
              "  </div>\n",
              "\n",
              "\n",
              "<div id=\"df-187df383-5592-4d0f-b35b-a30cb2dc6a7e\">\n",
              "  <button class=\"colab-df-quickchart\" onclick=\"quickchart('df-187df383-5592-4d0f-b35b-a30cb2dc6a7e')\"\n",
              "            title=\"Suggest charts.\"\n",
              "            style=\"display:none;\">\n",
              "\n",
              "<svg xmlns=\"http://www.w3.org/2000/svg\" height=\"24px\"viewBox=\"0 0 24 24\"\n",
              "     width=\"24px\">\n",
              "    <g>\n",
              "        <path d=\"M19 3H5c-1.1 0-2 .9-2 2v14c0 1.1.9 2 2 2h14c1.1 0 2-.9 2-2V5c0-1.1-.9-2-2-2zM9 17H7v-7h2v7zm4 0h-2V7h2v10zm4 0h-2v-4h2v4z\"/>\n",
              "    </g>\n",
              "</svg>\n",
              "  </button>\n",
              "\n",
              "<style>\n",
              "  .colab-df-quickchart {\n",
              "      --bg-color: #E8F0FE;\n",
              "      --fill-color: #1967D2;\n",
              "      --hover-bg-color: #E2EBFA;\n",
              "      --hover-fill-color: #174EA6;\n",
              "      --disabled-fill-color: #AAA;\n",
              "      --disabled-bg-color: #DDD;\n",
              "  }\n",
              "\n",
              "  [theme=dark] .colab-df-quickchart {\n",
              "      --bg-color: #3B4455;\n",
              "      --fill-color: #D2E3FC;\n",
              "      --hover-bg-color: #434B5C;\n",
              "      --hover-fill-color: #FFFFFF;\n",
              "      --disabled-bg-color: #3B4455;\n",
              "      --disabled-fill-color: #666;\n",
              "  }\n",
              "\n",
              "  .colab-df-quickchart {\n",
              "    background-color: var(--bg-color);\n",
              "    border: none;\n",
              "    border-radius: 50%;\n",
              "    cursor: pointer;\n",
              "    display: none;\n",
              "    fill: var(--fill-color);\n",
              "    height: 32px;\n",
              "    padding: 0;\n",
              "    width: 32px;\n",
              "  }\n",
              "\n",
              "  .colab-df-quickchart:hover {\n",
              "    background-color: var(--hover-bg-color);\n",
              "    box-shadow: 0 1px 2px rgba(60, 64, 67, 0.3), 0 1px 3px 1px rgba(60, 64, 67, 0.15);\n",
              "    fill: var(--button-hover-fill-color);\n",
              "  }\n",
              "\n",
              "  .colab-df-quickchart-complete:disabled,\n",
              "  .colab-df-quickchart-complete:disabled:hover {\n",
              "    background-color: var(--disabled-bg-color);\n",
              "    fill: var(--disabled-fill-color);\n",
              "    box-shadow: none;\n",
              "  }\n",
              "\n",
              "  .colab-df-spinner {\n",
              "    border: 2px solid var(--fill-color);\n",
              "    border-color: transparent;\n",
              "    border-bottom-color: var(--fill-color);\n",
              "    animation:\n",
              "      spin 1s steps(1) infinite;\n",
              "  }\n",
              "\n",
              "  @keyframes spin {\n",
              "    0% {\n",
              "      border-color: transparent;\n",
              "      border-bottom-color: var(--fill-color);\n",
              "      border-left-color: var(--fill-color);\n",
              "    }\n",
              "    20% {\n",
              "      border-color: transparent;\n",
              "      border-left-color: var(--fill-color);\n",
              "      border-top-color: var(--fill-color);\n",
              "    }\n",
              "    30% {\n",
              "      border-color: transparent;\n",
              "      border-left-color: var(--fill-color);\n",
              "      border-top-color: var(--fill-color);\n",
              "      border-right-color: var(--fill-color);\n",
              "    }\n",
              "    40% {\n",
              "      border-color: transparent;\n",
              "      border-right-color: var(--fill-color);\n",
              "      border-top-color: var(--fill-color);\n",
              "    }\n",
              "    60% {\n",
              "      border-color: transparent;\n",
              "      border-right-color: var(--fill-color);\n",
              "    }\n",
              "    80% {\n",
              "      border-color: transparent;\n",
              "      border-right-color: var(--fill-color);\n",
              "      border-bottom-color: var(--fill-color);\n",
              "    }\n",
              "    90% {\n",
              "      border-color: transparent;\n",
              "      border-bottom-color: var(--fill-color);\n",
              "    }\n",
              "  }\n",
              "</style>\n",
              "\n",
              "  <script>\n",
              "    async function quickchart(key) {\n",
              "      const quickchartButtonEl =\n",
              "        document.querySelector('#' + key + ' button');\n",
              "      quickchartButtonEl.disabled = true;  // To prevent multiple clicks.\n",
              "      quickchartButtonEl.classList.add('colab-df-spinner');\n",
              "      try {\n",
              "        const charts = await google.colab.kernel.invokeFunction(\n",
              "            'suggestCharts', [key], {});\n",
              "      } catch (error) {\n",
              "        console.error('Error during call to suggestCharts:', error);\n",
              "      }\n",
              "      quickchartButtonEl.classList.remove('colab-df-spinner');\n",
              "      quickchartButtonEl.classList.add('colab-df-quickchart-complete');\n",
              "    }\n",
              "    (() => {\n",
              "      let quickchartButtonEl =\n",
              "        document.querySelector('#df-187df383-5592-4d0f-b35b-a30cb2dc6a7e button');\n",
              "      quickchartButtonEl.style.display =\n",
              "        google.colab.kernel.accessAllowed ? 'block' : 'none';\n",
              "    })();\n",
              "  </script>\n",
              "</div>\n",
              "    </div>\n",
              "  </div>\n"
            ]
          },
          "metadata": {},
          "execution_count": 40
        }
      ]
    },
    {
      "cell_type": "code",
      "source": [
        "import pandas as pd\n",
        "\n",
        "# Create a DataFrame\n",
        "data = {'A': [1, 2, 3], 'B': [4, 5, 6]}\n",
        "df = pd.DataFrame(data, index=['a', 'b', 'c'])\n",
        "\n",
        "# Use .loc to access a row by label\n",
        "row_a = df.loc['a']\n",
        "\n",
        "print(row_a)"
      ],
      "metadata": {
        "colab": {
          "base_uri": "https://localhost:8080/"
        },
        "id": "iPTlROGv2r7M",
        "outputId": "114828c9-dd4d-4ae7-aa87-06d7012bdaef"
      },
      "execution_count": 41,
      "outputs": [
        {
          "output_type": "stream",
          "name": "stdout",
          "text": [
            "A    1\n",
            "B    4\n",
            "Name: a, dtype: int64\n"
          ]
        }
      ]
    },
    {
      "cell_type": "code",
      "source": [
        "dataframe_from_array.iloc[1,3] #second row and last column"
      ],
      "metadata": {
        "colab": {
          "base_uri": "https://localhost:8080/"
        },
        "id": "PI4cRSO526jo",
        "outputId": "f95139c3-f050-48b3-9a20-6029e9140c08"
      },
      "execution_count": 42,
      "outputs": [
        {
          "output_type": "execute_result",
          "data": {
            "text/plain": [
              "7"
            ]
          },
          "metadata": {},
          "execution_count": 42
        }
      ]
    },
    {
      "cell_type": "code",
      "source": [
        "dataframe_from_array.iloc[::2,::2]"
      ],
      "metadata": {
        "colab": {
          "base_uri": "https://localhost:8080/",
          "height": 112
        },
        "id": "-BpY8Prl3GQX",
        "outputId": "fae83eac-0ee0-410e-ab97-1a666d65435d"
      },
      "execution_count": 43,
      "outputs": [
        {
          "output_type": "execute_result",
          "data": {
            "text/plain": [
              "   w   y\n",
              "a  0   2\n",
              "c  8  10"
            ],
            "text/html": [
              "\n",
              "  <div id=\"df-87eb8e1e-20ab-496e-977b-f393b6ceba09\" class=\"colab-df-container\">\n",
              "    <div>\n",
              "<style scoped>\n",
              "    .dataframe tbody tr th:only-of-type {\n",
              "        vertical-align: middle;\n",
              "    }\n",
              "\n",
              "    .dataframe tbody tr th {\n",
              "        vertical-align: top;\n",
              "    }\n",
              "\n",
              "    .dataframe thead th {\n",
              "        text-align: right;\n",
              "    }\n",
              "</style>\n",
              "<table border=\"1\" class=\"dataframe\">\n",
              "  <thead>\n",
              "    <tr style=\"text-align: right;\">\n",
              "      <th></th>\n",
              "      <th>w</th>\n",
              "      <th>y</th>\n",
              "    </tr>\n",
              "  </thead>\n",
              "  <tbody>\n",
              "    <tr>\n",
              "      <th>a</th>\n",
              "      <td>0</td>\n",
              "      <td>2</td>\n",
              "    </tr>\n",
              "    <tr>\n",
              "      <th>c</th>\n",
              "      <td>8</td>\n",
              "      <td>10</td>\n",
              "    </tr>\n",
              "  </tbody>\n",
              "</table>\n",
              "</div>\n",
              "    <div class=\"colab-df-buttons\">\n",
              "\n",
              "  <div class=\"colab-df-container\">\n",
              "    <button class=\"colab-df-convert\" onclick=\"convertToInteractive('df-87eb8e1e-20ab-496e-977b-f393b6ceba09')\"\n",
              "            title=\"Convert this dataframe to an interactive table.\"\n",
              "            style=\"display:none;\">\n",
              "\n",
              "  <svg xmlns=\"http://www.w3.org/2000/svg\" height=\"24px\" viewBox=\"0 -960 960 960\">\n",
              "    <path d=\"M120-120v-720h720v720H120Zm60-500h600v-160H180v160Zm220 220h160v-160H400v160Zm0 220h160v-160H400v160ZM180-400h160v-160H180v160Zm440 0h160v-160H620v160ZM180-180h160v-160H180v160Zm440 0h160v-160H620v160Z\"/>\n",
              "  </svg>\n",
              "    </button>\n",
              "\n",
              "  <style>\n",
              "    .colab-df-container {\n",
              "      display:flex;\n",
              "      gap: 12px;\n",
              "    }\n",
              "\n",
              "    .colab-df-convert {\n",
              "      background-color: #E8F0FE;\n",
              "      border: none;\n",
              "      border-radius: 50%;\n",
              "      cursor: pointer;\n",
              "      display: none;\n",
              "      fill: #1967D2;\n",
              "      height: 32px;\n",
              "      padding: 0 0 0 0;\n",
              "      width: 32px;\n",
              "    }\n",
              "\n",
              "    .colab-df-convert:hover {\n",
              "      background-color: #E2EBFA;\n",
              "      box-shadow: 0px 1px 2px rgba(60, 64, 67, 0.3), 0px 1px 3px 1px rgba(60, 64, 67, 0.15);\n",
              "      fill: #174EA6;\n",
              "    }\n",
              "\n",
              "    .colab-df-buttons div {\n",
              "      margin-bottom: 4px;\n",
              "    }\n",
              "\n",
              "    [theme=dark] .colab-df-convert {\n",
              "      background-color: #3B4455;\n",
              "      fill: #D2E3FC;\n",
              "    }\n",
              "\n",
              "    [theme=dark] .colab-df-convert:hover {\n",
              "      background-color: #434B5C;\n",
              "      box-shadow: 0px 1px 3px 1px rgba(0, 0, 0, 0.15);\n",
              "      filter: drop-shadow(0px 1px 2px rgba(0, 0, 0, 0.3));\n",
              "      fill: #FFFFFF;\n",
              "    }\n",
              "  </style>\n",
              "\n",
              "    <script>\n",
              "      const buttonEl =\n",
              "        document.querySelector('#df-87eb8e1e-20ab-496e-977b-f393b6ceba09 button.colab-df-convert');\n",
              "      buttonEl.style.display =\n",
              "        google.colab.kernel.accessAllowed ? 'block' : 'none';\n",
              "\n",
              "      async function convertToInteractive(key) {\n",
              "        const element = document.querySelector('#df-87eb8e1e-20ab-496e-977b-f393b6ceba09');\n",
              "        const dataTable =\n",
              "          await google.colab.kernel.invokeFunction('convertToInteractive',\n",
              "                                                    [key], {});\n",
              "        if (!dataTable) return;\n",
              "\n",
              "        const docLinkHtml = 'Like what you see? Visit the ' +\n",
              "          '<a target=\"_blank\" href=https://colab.research.google.com/notebooks/data_table.ipynb>data table notebook</a>'\n",
              "          + ' to learn more about interactive tables.';\n",
              "        element.innerHTML = '';\n",
              "        dataTable['output_type'] = 'display_data';\n",
              "        await google.colab.output.renderOutput(dataTable, element);\n",
              "        const docLink = document.createElement('div');\n",
              "        docLink.innerHTML = docLinkHtml;\n",
              "        element.appendChild(docLink);\n",
              "      }\n",
              "    </script>\n",
              "  </div>\n",
              "\n",
              "\n",
              "<div id=\"df-4d20a5a8-8270-410f-9e6d-181a0569532b\">\n",
              "  <button class=\"colab-df-quickchart\" onclick=\"quickchart('df-4d20a5a8-8270-410f-9e6d-181a0569532b')\"\n",
              "            title=\"Suggest charts.\"\n",
              "            style=\"display:none;\">\n",
              "\n",
              "<svg xmlns=\"http://www.w3.org/2000/svg\" height=\"24px\"viewBox=\"0 0 24 24\"\n",
              "     width=\"24px\">\n",
              "    <g>\n",
              "        <path d=\"M19 3H5c-1.1 0-2 .9-2 2v14c0 1.1.9 2 2 2h14c1.1 0 2-.9 2-2V5c0-1.1-.9-2-2-2zM9 17H7v-7h2v7zm4 0h-2V7h2v10zm4 0h-2v-4h2v4z\"/>\n",
              "    </g>\n",
              "</svg>\n",
              "  </button>\n",
              "\n",
              "<style>\n",
              "  .colab-df-quickchart {\n",
              "      --bg-color: #E8F0FE;\n",
              "      --fill-color: #1967D2;\n",
              "      --hover-bg-color: #E2EBFA;\n",
              "      --hover-fill-color: #174EA6;\n",
              "      --disabled-fill-color: #AAA;\n",
              "      --disabled-bg-color: #DDD;\n",
              "  }\n",
              "\n",
              "  [theme=dark] .colab-df-quickchart {\n",
              "      --bg-color: #3B4455;\n",
              "      --fill-color: #D2E3FC;\n",
              "      --hover-bg-color: #434B5C;\n",
              "      --hover-fill-color: #FFFFFF;\n",
              "      --disabled-bg-color: #3B4455;\n",
              "      --disabled-fill-color: #666;\n",
              "  }\n",
              "\n",
              "  .colab-df-quickchart {\n",
              "    background-color: var(--bg-color);\n",
              "    border: none;\n",
              "    border-radius: 50%;\n",
              "    cursor: pointer;\n",
              "    display: none;\n",
              "    fill: var(--fill-color);\n",
              "    height: 32px;\n",
              "    padding: 0;\n",
              "    width: 32px;\n",
              "  }\n",
              "\n",
              "  .colab-df-quickchart:hover {\n",
              "    background-color: var(--hover-bg-color);\n",
              "    box-shadow: 0 1px 2px rgba(60, 64, 67, 0.3), 0 1px 3px 1px rgba(60, 64, 67, 0.15);\n",
              "    fill: var(--button-hover-fill-color);\n",
              "  }\n",
              "\n",
              "  .colab-df-quickchart-complete:disabled,\n",
              "  .colab-df-quickchart-complete:disabled:hover {\n",
              "    background-color: var(--disabled-bg-color);\n",
              "    fill: var(--disabled-fill-color);\n",
              "    box-shadow: none;\n",
              "  }\n",
              "\n",
              "  .colab-df-spinner {\n",
              "    border: 2px solid var(--fill-color);\n",
              "    border-color: transparent;\n",
              "    border-bottom-color: var(--fill-color);\n",
              "    animation:\n",
              "      spin 1s steps(1) infinite;\n",
              "  }\n",
              "\n",
              "  @keyframes spin {\n",
              "    0% {\n",
              "      border-color: transparent;\n",
              "      border-bottom-color: var(--fill-color);\n",
              "      border-left-color: var(--fill-color);\n",
              "    }\n",
              "    20% {\n",
              "      border-color: transparent;\n",
              "      border-left-color: var(--fill-color);\n",
              "      border-top-color: var(--fill-color);\n",
              "    }\n",
              "    30% {\n",
              "      border-color: transparent;\n",
              "      border-left-color: var(--fill-color);\n",
              "      border-top-color: var(--fill-color);\n",
              "      border-right-color: var(--fill-color);\n",
              "    }\n",
              "    40% {\n",
              "      border-color: transparent;\n",
              "      border-right-color: var(--fill-color);\n",
              "      border-top-color: var(--fill-color);\n",
              "    }\n",
              "    60% {\n",
              "      border-color: transparent;\n",
              "      border-right-color: var(--fill-color);\n",
              "    }\n",
              "    80% {\n",
              "      border-color: transparent;\n",
              "      border-right-color: var(--fill-color);\n",
              "      border-bottom-color: var(--fill-color);\n",
              "    }\n",
              "    90% {\n",
              "      border-color: transparent;\n",
              "      border-bottom-color: var(--fill-color);\n",
              "    }\n",
              "  }\n",
              "</style>\n",
              "\n",
              "  <script>\n",
              "    async function quickchart(key) {\n",
              "      const quickchartButtonEl =\n",
              "        document.querySelector('#' + key + ' button');\n",
              "      quickchartButtonEl.disabled = true;  // To prevent multiple clicks.\n",
              "      quickchartButtonEl.classList.add('colab-df-spinner');\n",
              "      try {\n",
              "        const charts = await google.colab.kernel.invokeFunction(\n",
              "            'suggestCharts', [key], {});\n",
              "      } catch (error) {\n",
              "        console.error('Error during call to suggestCharts:', error);\n",
              "      }\n",
              "      quickchartButtonEl.classList.remove('colab-df-spinner');\n",
              "      quickchartButtonEl.classList.add('colab-df-quickchart-complete');\n",
              "    }\n",
              "    (() => {\n",
              "      let quickchartButtonEl =\n",
              "        document.querySelector('#df-4d20a5a8-8270-410f-9e6d-181a0569532b button');\n",
              "      quickchartButtonEl.style.display =\n",
              "        google.colab.kernel.accessAllowed ? 'block' : 'none';\n",
              "    })();\n",
              "  </script>\n",
              "</div>\n",
              "    </div>\n",
              "  </div>\n"
            ]
          },
          "metadata": {},
          "execution_count": 43
        }
      ]
    },
    {
      "cell_type": "code",
      "source": [
        "\n",
        "import numpy as np\n",
        "from matplotlib import pyplot as plt\n",
        "\n",
        "ys = 200 + np.random.randn(100)\n",
        "x = [x for x in range(len(ys))]\n",
        "\n",
        "plt.plot(x, ys, '-')\n",
        "plt.fill_between(x, ys, 195, where=(ys > 200), facecolor='g', alpha=0.6)\n",
        "\n",
        "plt.title(\"Sample Visualization\")\n",
        "plt.show()"
      ],
      "metadata": {
        "colab": {
          "base_uri": "https://localhost:8080/",
          "height": 452
        },
        "id": "fqzrScL-GrZU",
        "outputId": "2901998e-ce8b-4924-8875-473df321e6b3"
      },
      "execution_count": 44,
      "outputs": [
        {
          "output_type": "display_data",
          "data": {
            "text/plain": [
              "<Figure size 640x480 with 1 Axes>"
            ],
            "image/png": "[encoded data removed]"
          },
          "metadata": {}
        }
      ]
    },
    {
      "cell_type": "code",
      "source": [
        "# @title Default title text\n",
        "## Question 3 : Upload an image to your google drive, Use plt.imread to read image from the google drive and then print that image using plt.imshow\n",
        "\n",
        "\n",
        "## Answer 3 :\n",
        "\n",
        "## 1) make sure drive is loaded and then upload a test image onto your drive\n"
      ],
      "metadata": {
        "id": "mC8rNbeKxiaF"
      },
      "execution_count": 48,
      "outputs": []
    },
    {
      "cell_type": "markdown",
      "source": [],
      "metadata": {
        "id": "0SJjKdE7zUAd"
      }
    },
    {
      "cell_type": "markdown",
      "source": [
        "![download copy.jpg](data:image/jpeg;base64,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)"
      ],
      "metadata": {
        "id": "VnRozCXZzM0L"
      }
    }
  ]
}